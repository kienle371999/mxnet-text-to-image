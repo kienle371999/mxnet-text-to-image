{
  "nbformat": 4,
  "nbformat_minor": 0,
  "metadata": {
    "colab": {
      "name": "CNNs_week2+3_foundations_ND.ipynb",
      "provenance": [],
      "collapsed_sections": [],
      "toc_visible": true,
      "include_colab_link": true
    },
    "kernelspec": {
      "name": "python3",
      "display_name": "Python 3"
    },
    "accelerator": "GPU",
    "widgets": {
      "application/vnd.jupyter.widget-state+json": {
        "61531261b3a74bb1871e79670567dfc1": {
          "model_module": "@jupyter-widgets/controls",
          "model_name": "HBoxModel",
          "state": {
            "_view_name": "HBoxView",
            "_dom_classes": [],
            "_model_name": "HBoxModel",
            "_view_module": "@jupyter-widgets/controls",
            "_model_module_version": "1.5.0",
            "_view_count": null,
            "_view_module_version": "1.5.0",
            "box_style": "",
            "layout": "IPY_MODEL_0f9865d69b72413baf617d65a7aa1f1d",
            "_model_module": "@jupyter-widgets/controls",
            "children": [
              "IPY_MODEL_3e0d066df6c4468ea26855d2a9631f73",
              "IPY_MODEL_73cd275aea734bd1851b30762895fba5"
            ]
          }
        },
        "0f9865d69b72413baf617d65a7aa1f1d": {
          "model_module": "@jupyter-widgets/base",
          "model_name": "LayoutModel",
          "state": {
            "_view_name": "LayoutView",
            "grid_template_rows": null,
            "right": null,
            "justify_content": null,
            "_view_module": "@jupyter-widgets/base",
            "overflow": null,
            "_model_module_version": "1.2.0",
            "_view_count": null,
            "flex_flow": null,
            "width": null,
            "min_width": null,
            "border": null,
            "align_items": null,
            "bottom": null,
            "_model_module": "@jupyter-widgets/base",
            "top": null,
            "grid_column": null,
            "overflow_y": null,
            "overflow_x": null,
            "grid_auto_flow": null,
            "grid_area": null,
            "grid_template_columns": null,
            "flex": null,
            "_model_name": "LayoutModel",
            "justify_items": null,
            "grid_row": null,
            "max_height": null,
            "align_content": null,
            "visibility": null,
            "align_self": null,
            "height": null,
            "min_height": null,
            "padding": null,
            "grid_auto_rows": null,
            "grid_gap": null,
            "max_width": null,
            "order": null,
            "_view_module_version": "1.2.0",
            "grid_template_areas": null,
            "object_position": null,
            "object_fit": null,
            "grid_auto_columns": null,
            "margin": null,
            "display": null,
            "left": null
          }
        },
        "3e0d066df6c4468ea26855d2a9631f73": {
          "model_module": "@jupyter-widgets/controls",
          "model_name": "IntProgressModel",
          "state": {
            "_view_name": "ProgressView",
            "style": "IPY_MODEL_98a900d113cb42029c9b1a7a3e51fe08",
            "_dom_classes": [],
            "description": "",
            "_model_name": "IntProgressModel",
            "bar_style": "info",
            "max": 1,
            "_view_module": "@jupyter-widgets/controls",
            "_model_module_version": "1.5.0",
            "value": 1,
            "_view_count": null,
            "_view_module_version": "1.5.0",
            "orientation": "horizontal",
            "min": 0,
            "description_tooltip": null,
            "_model_module": "@jupyter-widgets/controls",
            "layout": "IPY_MODEL_f3fbe72f88ee4628acb93aeab9335e87"
          }
        },
        "73cd275aea734bd1851b30762895fba5": {
          "model_module": "@jupyter-widgets/controls",
          "model_name": "HTMLModel",
          "state": {
            "_view_name": "HTMLView",
            "style": "IPY_MODEL_baea7e72d3e04c698241f633704fca45",
            "_dom_classes": [],
            "description": "",
            "_model_name": "HTMLModel",
            "placeholder": "​",
            "_view_module": "@jupyter-widgets/controls",
            "_model_module_version": "1.5.0",
            "value": " 9920512/? [00:20&lt;00:00, 1070775.47it/s]",
            "_view_count": null,
            "_view_module_version": "1.5.0",
            "description_tooltip": null,
            "_model_module": "@jupyter-widgets/controls",
            "layout": "IPY_MODEL_cea5558f48e34fc49285fbfb8f780f38"
          }
        },
        "98a900d113cb42029c9b1a7a3e51fe08": {
          "model_module": "@jupyter-widgets/controls",
          "model_name": "ProgressStyleModel",
          "state": {
            "_view_name": "StyleView",
            "_model_name": "ProgressStyleModel",
            "description_width": "initial",
            "_view_module": "@jupyter-widgets/base",
            "_model_module_version": "1.5.0",
            "_view_count": null,
            "_view_module_version": "1.2.0",
            "bar_color": null,
            "_model_module": "@jupyter-widgets/controls"
          }
        },
        "f3fbe72f88ee4628acb93aeab9335e87": {
          "model_module": "@jupyter-widgets/base",
          "model_name": "LayoutModel",
          "state": {
            "_view_name": "LayoutView",
            "grid_template_rows": null,
            "right": null,
            "justify_content": null,
            "_view_module": "@jupyter-widgets/base",
            "overflow": null,
            "_model_module_version": "1.2.0",
            "_view_count": null,
            "flex_flow": null,
            "width": null,
            "min_width": null,
            "border": null,
            "align_items": null,
            "bottom": null,
            "_model_module": "@jupyter-widgets/base",
            "top": null,
            "grid_column": null,
            "overflow_y": null,
            "overflow_x": null,
            "grid_auto_flow": null,
            "grid_area": null,
            "grid_template_columns": null,
            "flex": null,
            "_model_name": "LayoutModel",
            "justify_items": null,
            "grid_row": null,
            "max_height": null,
            "align_content": null,
            "visibility": null,
            "align_self": null,
            "height": null,
            "min_height": null,
            "padding": null,
            "grid_auto_rows": null,
            "grid_gap": null,
            "max_width": null,
            "order": null,
            "_view_module_version": "1.2.0",
            "grid_template_areas": null,
            "object_position": null,
            "object_fit": null,
            "grid_auto_columns": null,
            "margin": null,
            "display": null,
            "left": null
          }
        },
        "baea7e72d3e04c698241f633704fca45": {
          "model_module": "@jupyter-widgets/controls",
          "model_name": "DescriptionStyleModel",
          "state": {
            "_view_name": "StyleView",
            "_model_name": "DescriptionStyleModel",
            "description_width": "",
            "_view_module": "@jupyter-widgets/base",
            "_model_module_version": "1.5.0",
            "_view_count": null,
            "_view_module_version": "1.2.0",
            "_model_module": "@jupyter-widgets/controls"
          }
        },
        "cea5558f48e34fc49285fbfb8f780f38": {
          "model_module": "@jupyter-widgets/base",
          "model_name": "LayoutModel",
          "state": {
            "_view_name": "LayoutView",
            "grid_template_rows": null,
            "right": null,
            "justify_content": null,
            "_view_module": "@jupyter-widgets/base",
            "overflow": null,
            "_model_module_version": "1.2.0",
            "_view_count": null,
            "flex_flow": null,
            "width": null,
            "min_width": null,
            "border": null,
            "align_items": null,
            "bottom": null,
            "_model_module": "@jupyter-widgets/base",
            "top": null,
            "grid_column": null,
            "overflow_y": null,
            "overflow_x": null,
            "grid_auto_flow": null,
            "grid_area": null,
            "grid_template_columns": null,
            "flex": null,
            "_model_name": "LayoutModel",
            "justify_items": null,
            "grid_row": null,
            "max_height": null,
            "align_content": null,
            "visibility": null,
            "align_self": null,
            "height": null,
            "min_height": null,
            "padding": null,
            "grid_auto_rows": null,
            "grid_gap": null,
            "max_width": null,
            "order": null,
            "_view_module_version": "1.2.0",
            "grid_template_areas": null,
            "object_position": null,
            "object_fit": null,
            "grid_auto_columns": null,
            "margin": null,
            "display": null,
            "left": null
          }
        },
        "8ba0c836a64844dca2503a57cb25e771": {
          "model_module": "@jupyter-widgets/controls",
          "model_name": "HBoxModel",
          "state": {
            "_view_name": "HBoxView",
            "_dom_classes": [],
            "_model_name": "HBoxModel",
            "_view_module": "@jupyter-widgets/controls",
            "_model_module_version": "1.5.0",
            "_view_count": null,
            "_view_module_version": "1.5.0",
            "box_style": "",
            "layout": "IPY_MODEL_d2de99509f314b3d9abe10c60eb19f1d",
            "_model_module": "@jupyter-widgets/controls",
            "children": [
              "IPY_MODEL_182f34eca0344da79afc3fed567a5f58",
              "IPY_MODEL_6161f7bb68d24f399726f400aba8dddc"
            ]
          }
        },
        "d2de99509f314b3d9abe10c60eb19f1d": {
          "model_module": "@jupyter-widgets/base",
          "model_name": "LayoutModel",
          "state": {
            "_view_name": "LayoutView",
            "grid_template_rows": null,
            "right": null,
            "justify_content": null,
            "_view_module": "@jupyter-widgets/base",
            "overflow": null,
            "_model_module_version": "1.2.0",
            "_view_count": null,
            "flex_flow": null,
            "width": null,
            "min_width": null,
            "border": null,
            "align_items": null,
            "bottom": null,
            "_model_module": "@jupyter-widgets/base",
            "top": null,
            "grid_column": null,
            "overflow_y": null,
            "overflow_x": null,
            "grid_auto_flow": null,
            "grid_area": null,
            "grid_template_columns": null,
            "flex": null,
            "_model_name": "LayoutModel",
            "justify_items": null,
            "grid_row": null,
            "max_height": null,
            "align_content": null,
            "visibility": null,
            "align_self": null,
            "height": null,
            "min_height": null,
            "padding": null,
            "grid_auto_rows": null,
            "grid_gap": null,
            "max_width": null,
            "order": null,
            "_view_module_version": "1.2.0",
            "grid_template_areas": null,
            "object_position": null,
            "object_fit": null,
            "grid_auto_columns": null,
            "margin": null,
            "display": null,
            "left": null
          }
        },
        "182f34eca0344da79afc3fed567a5f58": {
          "model_module": "@jupyter-widgets/controls",
          "model_name": "IntProgressModel",
          "state": {
            "_view_name": "ProgressView",
            "style": "IPY_MODEL_7261d358cd2e45efb8fe4a4a45110b0a",
            "_dom_classes": [],
            "description": "",
            "_model_name": "IntProgressModel",
            "bar_style": "success",
            "max": 1,
            "_view_module": "@jupyter-widgets/controls",
            "_model_module_version": "1.5.0",
            "value": 1,
            "_view_count": null,
            "_view_module_version": "1.5.0",
            "orientation": "horizontal",
            "min": 0,
            "description_tooltip": null,
            "_model_module": "@jupyter-widgets/controls",
            "layout": "IPY_MODEL_f5eaa7942c22422d9893949282e661e3"
          }
        },
        "6161f7bb68d24f399726f400aba8dddc": {
          "model_module": "@jupyter-widgets/controls",
          "model_name": "HTMLModel",
          "state": {
            "_view_name": "HTMLView",
            "style": "IPY_MODEL_39d5b78de7df4f2f91eaf02fc992c745",
            "_dom_classes": [],
            "description": "",
            "_model_name": "HTMLModel",
            "placeholder": "​",
            "_view_module": "@jupyter-widgets/controls",
            "_model_module_version": "1.5.0",
            "value": " 32768/? [00:00&lt;00:00, 127537.22it/s]",
            "_view_count": null,
            "_view_module_version": "1.5.0",
            "description_tooltip": null,
            "_model_module": "@jupyter-widgets/controls",
            "layout": "IPY_MODEL_a603a5ab297a4eb6b2253d03ac4b71bc"
          }
        },
        "7261d358cd2e45efb8fe4a4a45110b0a": {
          "model_module": "@jupyter-widgets/controls",
          "model_name": "ProgressStyleModel",
          "state": {
            "_view_name": "StyleView",
            "_model_name": "ProgressStyleModel",
            "description_width": "initial",
            "_view_module": "@jupyter-widgets/base",
            "_model_module_version": "1.5.0",
            "_view_count": null,
            "_view_module_version": "1.2.0",
            "bar_color": null,
            "_model_module": "@jupyter-widgets/controls"
          }
        },
        "f5eaa7942c22422d9893949282e661e3": {
          "model_module": "@jupyter-widgets/base",
          "model_name": "LayoutModel",
          "state": {
            "_view_name": "LayoutView",
            "grid_template_rows": null,
            "right": null,
            "justify_content": null,
            "_view_module": "@jupyter-widgets/base",
            "overflow": null,
            "_model_module_version": "1.2.0",
            "_view_count": null,
            "flex_flow": null,
            "width": null,
            "min_width": null,
            "border": null,
            "align_items": null,
            "bottom": null,
            "_model_module": "@jupyter-widgets/base",
            "top": null,
            "grid_column": null,
            "overflow_y": null,
            "overflow_x": null,
            "grid_auto_flow": null,
            "grid_area": null,
            "grid_template_columns": null,
            "flex": null,
            "_model_name": "LayoutModel",
            "justify_items": null,
            "grid_row": null,
            "max_height": null,
            "align_content": null,
            "visibility": null,
            "align_self": null,
            "height": null,
            "min_height": null,
            "padding": null,
            "grid_auto_rows": null,
            "grid_gap": null,
            "max_width": null,
            "order": null,
            "_view_module_version": "1.2.0",
            "grid_template_areas": null,
            "object_position": null,
            "object_fit": null,
            "grid_auto_columns": null,
            "margin": null,
            "display": null,
            "left": null
          }
        },
        "39d5b78de7df4f2f91eaf02fc992c745": {
          "model_module": "@jupyter-widgets/controls",
          "model_name": "DescriptionStyleModel",
          "state": {
            "_view_name": "StyleView",
            "_model_name": "DescriptionStyleModel",
            "description_width": "",
            "_view_module": "@jupyter-widgets/base",
            "_model_module_version": "1.5.0",
            "_view_count": null,
            "_view_module_version": "1.2.0",
            "_model_module": "@jupyter-widgets/controls"
          }
        },
        "a603a5ab297a4eb6b2253d03ac4b71bc": {
          "model_module": "@jupyter-widgets/base",
          "model_name": "LayoutModel",
          "state": {
            "_view_name": "LayoutView",
            "grid_template_rows": null,
            "right": null,
            "justify_content": null,
            "_view_module": "@jupyter-widgets/base",
            "overflow": null,
            "_model_module_version": "1.2.0",
            "_view_count": null,
            "flex_flow": null,
            "width": null,
            "min_width": null,
            "border": null,
            "align_items": null,
            "bottom": null,
            "_model_module": "@jupyter-widgets/base",
            "top": null,
            "grid_column": null,
            "overflow_y": null,
            "overflow_x": null,
            "grid_auto_flow": null,
            "grid_area": null,
            "grid_template_columns": null,
            "flex": null,
            "_model_name": "LayoutModel",
            "justify_items": null,
            "grid_row": null,
            "max_height": null,
            "align_content": null,
            "visibility": null,
            "align_self": null,
            "height": null,
            "min_height": null,
            "padding": null,
            "grid_auto_rows": null,
            "grid_gap": null,
            "max_width": null,
            "order": null,
            "_view_module_version": "1.2.0",
            "grid_template_areas": null,
            "object_position": null,
            "object_fit": null,
            "grid_auto_columns": null,
            "margin": null,
            "display": null,
            "left": null
          }
        },
        "ba41e5863e4b4be7b0f77c12286c3ff7": {
          "model_module": "@jupyter-widgets/controls",
          "model_name": "HBoxModel",
          "state": {
            "_view_name": "HBoxView",
            "_dom_classes": [],
            "_model_name": "HBoxModel",
            "_view_module": "@jupyter-widgets/controls",
            "_model_module_version": "1.5.0",
            "_view_count": null,
            "_view_module_version": "1.5.0",
            "box_style": "",
            "layout": "IPY_MODEL_075765547a5a4280afca2f8d3daa58ff",
            "_model_module": "@jupyter-widgets/controls",
            "children": [
              "IPY_MODEL_fa01f650a84b484691405a7b9eabca7f",
              "IPY_MODEL_bd8af090799f49b59ce79eda590acce1"
            ]
          }
        },
        "075765547a5a4280afca2f8d3daa58ff": {
          "model_module": "@jupyter-widgets/base",
          "model_name": "LayoutModel",
          "state": {
            "_view_name": "LayoutView",
            "grid_template_rows": null,
            "right": null,
            "justify_content": null,
            "_view_module": "@jupyter-widgets/base",
            "overflow": null,
            "_model_module_version": "1.2.0",
            "_view_count": null,
            "flex_flow": null,
            "width": null,
            "min_width": null,
            "border": null,
            "align_items": null,
            "bottom": null,
            "_model_module": "@jupyter-widgets/base",
            "top": null,
            "grid_column": null,
            "overflow_y": null,
            "overflow_x": null,
            "grid_auto_flow": null,
            "grid_area": null,
            "grid_template_columns": null,
            "flex": null,
            "_model_name": "LayoutModel",
            "justify_items": null,
            "grid_row": null,
            "max_height": null,
            "align_content": null,
            "visibility": null,
            "align_self": null,
            "height": null,
            "min_height": null,
            "padding": null,
            "grid_auto_rows": null,
            "grid_gap": null,
            "max_width": null,
            "order": null,
            "_view_module_version": "1.2.0",
            "grid_template_areas": null,
            "object_position": null,
            "object_fit": null,
            "grid_auto_columns": null,
            "margin": null,
            "display": null,
            "left": null
          }
        },
        "fa01f650a84b484691405a7b9eabca7f": {
          "model_module": "@jupyter-widgets/controls",
          "model_name": "IntProgressModel",
          "state": {
            "_view_name": "ProgressView",
            "style": "IPY_MODEL_a460df9e805c4f65b8787b83ffd720c2",
            "_dom_classes": [],
            "description": "",
            "_model_name": "IntProgressModel",
            "bar_style": "info",
            "max": 1,
            "_view_module": "@jupyter-widgets/controls",
            "_model_module_version": "1.5.0",
            "value": 1,
            "_view_count": null,
            "_view_module_version": "1.5.0",
            "orientation": "horizontal",
            "min": 0,
            "description_tooltip": null,
            "_model_module": "@jupyter-widgets/controls",
            "layout": "IPY_MODEL_f9920bc8b76849db9b86dc3c4c217596"
          }
        },
        "bd8af090799f49b59ce79eda590acce1": {
          "model_module": "@jupyter-widgets/controls",
          "model_name": "HTMLModel",
          "state": {
            "_view_name": "HTMLView",
            "style": "IPY_MODEL_f90f8574261842f6bf27506fcb8c0853",
            "_dom_classes": [],
            "description": "",
            "_model_name": "HTMLModel",
            "placeholder": "​",
            "_view_module": "@jupyter-widgets/controls",
            "_model_module_version": "1.5.0",
            "value": " 1654784/? [00:17&lt;00:00, 533506.62it/s]",
            "_view_count": null,
            "_view_module_version": "1.5.0",
            "description_tooltip": null,
            "_model_module": "@jupyter-widgets/controls",
            "layout": "IPY_MODEL_1367a6c3f82c42a9a1a81c4834896782"
          }
        },
        "a460df9e805c4f65b8787b83ffd720c2": {
          "model_module": "@jupyter-widgets/controls",
          "model_name": "ProgressStyleModel",
          "state": {
            "_view_name": "StyleView",
            "_model_name": "ProgressStyleModel",
            "description_width": "initial",
            "_view_module": "@jupyter-widgets/base",
            "_model_module_version": "1.5.0",
            "_view_count": null,
            "_view_module_version": "1.2.0",
            "bar_color": null,
            "_model_module": "@jupyter-widgets/controls"
          }
        },
        "f9920bc8b76849db9b86dc3c4c217596": {
          "model_module": "@jupyter-widgets/base",
          "model_name": "LayoutModel",
          "state": {
            "_view_name": "LayoutView",
            "grid_template_rows": null,
            "right": null,
            "justify_content": null,
            "_view_module": "@jupyter-widgets/base",
            "overflow": null,
            "_model_module_version": "1.2.0",
            "_view_count": null,
            "flex_flow": null,
            "width": null,
            "min_width": null,
            "border": null,
            "align_items": null,
            "bottom": null,
            "_model_module": "@jupyter-widgets/base",
            "top": null,
            "grid_column": null,
            "overflow_y": null,
            "overflow_x": null,
            "grid_auto_flow": null,
            "grid_area": null,
            "grid_template_columns": null,
            "flex": null,
            "_model_name": "LayoutModel",
            "justify_items": null,
            "grid_row": null,
            "max_height": null,
            "align_content": null,
            "visibility": null,
            "align_self": null,
            "height": null,
            "min_height": null,
            "padding": null,
            "grid_auto_rows": null,
            "grid_gap": null,
            "max_width": null,
            "order": null,
            "_view_module_version": "1.2.0",
            "grid_template_areas": null,
            "object_position": null,
            "object_fit": null,
            "grid_auto_columns": null,
            "margin": null,
            "display": null,
            "left": null
          }
        },
        "f90f8574261842f6bf27506fcb8c0853": {
          "model_module": "@jupyter-widgets/controls",
          "model_name": "DescriptionStyleModel",
          "state": {
            "_view_name": "StyleView",
            "_model_name": "DescriptionStyleModel",
            "description_width": "",
            "_view_module": "@jupyter-widgets/base",
            "_model_module_version": "1.5.0",
            "_view_count": null,
            "_view_module_version": "1.2.0",
            "_model_module": "@jupyter-widgets/controls"
          }
        },
        "1367a6c3f82c42a9a1a81c4834896782": {
          "model_module": "@jupyter-widgets/base",
          "model_name": "LayoutModel",
          "state": {
            "_view_name": "LayoutView",
            "grid_template_rows": null,
            "right": null,
            "justify_content": null,
            "_view_module": "@jupyter-widgets/base",
            "overflow": null,
            "_model_module_version": "1.2.0",
            "_view_count": null,
            "flex_flow": null,
            "width": null,
            "min_width": null,
            "border": null,
            "align_items": null,
            "bottom": null,
            "_model_module": "@jupyter-widgets/base",
            "top": null,
            "grid_column": null,
            "overflow_y": null,
            "overflow_x": null,
            "grid_auto_flow": null,
            "grid_area": null,
            "grid_template_columns": null,
            "flex": null,
            "_model_name": "LayoutModel",
            "justify_items": null,
            "grid_row": null,
            "max_height": null,
            "align_content": null,
            "visibility": null,
            "align_self": null,
            "height": null,
            "min_height": null,
            "padding": null,
            "grid_auto_rows": null,
            "grid_gap": null,
            "max_width": null,
            "order": null,
            "_view_module_version": "1.2.0",
            "grid_template_areas": null,
            "object_position": null,
            "object_fit": null,
            "grid_auto_columns": null,
            "margin": null,
            "display": null,
            "left": null
          }
        },
        "b3d24e8537f24eeead04261ccbb52410": {
          "model_module": "@jupyter-widgets/controls",
          "model_name": "HBoxModel",
          "state": {
            "_view_name": "HBoxView",
            "_dom_classes": [],
            "_model_name": "HBoxModel",
            "_view_module": "@jupyter-widgets/controls",
            "_model_module_version": "1.5.0",
            "_view_count": null,
            "_view_module_version": "1.5.0",
            "box_style": "",
            "layout": "IPY_MODEL_11b82b3f32d542c4bd1907a31204245e",
            "_model_module": "@jupyter-widgets/controls",
            "children": [
              "IPY_MODEL_30ef21cb583343a4b00a29da169b98e2",
              "IPY_MODEL_0c7a26d293a34bc08ef5198e6ce0d206"
            ]
          }
        },
        "11b82b3f32d542c4bd1907a31204245e": {
          "model_module": "@jupyter-widgets/base",
          "model_name": "LayoutModel",
          "state": {
            "_view_name": "LayoutView",
            "grid_template_rows": null,
            "right": null,
            "justify_content": null,
            "_view_module": "@jupyter-widgets/base",
            "overflow": null,
            "_model_module_version": "1.2.0",
            "_view_count": null,
            "flex_flow": null,
            "width": null,
            "min_width": null,
            "border": null,
            "align_items": null,
            "bottom": null,
            "_model_module": "@jupyter-widgets/base",
            "top": null,
            "grid_column": null,
            "overflow_y": null,
            "overflow_x": null,
            "grid_auto_flow": null,
            "grid_area": null,
            "grid_template_columns": null,
            "flex": null,
            "_model_name": "LayoutModel",
            "justify_items": null,
            "grid_row": null,
            "max_height": null,
            "align_content": null,
            "visibility": null,
            "align_self": null,
            "height": null,
            "min_height": null,
            "padding": null,
            "grid_auto_rows": null,
            "grid_gap": null,
            "max_width": null,
            "order": null,
            "_view_module_version": "1.2.0",
            "grid_template_areas": null,
            "object_position": null,
            "object_fit": null,
            "grid_auto_columns": null,
            "margin": null,
            "display": null,
            "left": null
          }
        },
        "30ef21cb583343a4b00a29da169b98e2": {
          "model_module": "@jupyter-widgets/controls",
          "model_name": "IntProgressModel",
          "state": {
            "_view_name": "ProgressView",
            "style": "IPY_MODEL_67d4bf10b6f548f0b09e729cf6e70f1d",
            "_dom_classes": [],
            "description": "  0%",
            "_model_name": "IntProgressModel",
            "bar_style": "info",
            "max": 1,
            "_view_module": "@jupyter-widgets/controls",
            "_model_module_version": "1.5.0",
            "value": 0,
            "_view_count": null,
            "_view_module_version": "1.5.0",
            "orientation": "horizontal",
            "min": 0,
            "description_tooltip": null,
            "_model_module": "@jupyter-widgets/controls",
            "layout": "IPY_MODEL_d32058d2971f498387b8bb4f0eba883b"
          }
        },
        "0c7a26d293a34bc08ef5198e6ce0d206": {
          "model_module": "@jupyter-widgets/controls",
          "model_name": "HTMLModel",
          "state": {
            "_view_name": "HTMLView",
            "style": "IPY_MODEL_f615054107b3488ebd2284890f2a05f8",
            "_dom_classes": [],
            "description": "",
            "_model_name": "HTMLModel",
            "placeholder": "​",
            "_view_module": "@jupyter-widgets/controls",
            "_model_module_version": "1.5.0",
            "value": " 0/4542 [00:00&lt;?, ?it/s]",
            "_view_count": null,
            "_view_module_version": "1.5.0",
            "description_tooltip": null,
            "_model_module": "@jupyter-widgets/controls",
            "layout": "IPY_MODEL_45e4168d1ced4106b33458cf07b21e9f"
          }
        },
        "67d4bf10b6f548f0b09e729cf6e70f1d": {
          "model_module": "@jupyter-widgets/controls",
          "model_name": "ProgressStyleModel",
          "state": {
            "_view_name": "StyleView",
            "_model_name": "ProgressStyleModel",
            "description_width": "initial",
            "_view_module": "@jupyter-widgets/base",
            "_model_module_version": "1.5.0",
            "_view_count": null,
            "_view_module_version": "1.2.0",
            "bar_color": null,
            "_model_module": "@jupyter-widgets/controls"
          }
        },
        "d32058d2971f498387b8bb4f0eba883b": {
          "model_module": "@jupyter-widgets/base",
          "model_name": "LayoutModel",
          "state": {
            "_view_name": "LayoutView",
            "grid_template_rows": null,
            "right": null,
            "justify_content": null,
            "_view_module": "@jupyter-widgets/base",
            "overflow": null,
            "_model_module_version": "1.2.0",
            "_view_count": null,
            "flex_flow": null,
            "width": null,
            "min_width": null,
            "border": null,
            "align_items": null,
            "bottom": null,
            "_model_module": "@jupyter-widgets/base",
            "top": null,
            "grid_column": null,
            "overflow_y": null,
            "overflow_x": null,
            "grid_auto_flow": null,
            "grid_area": null,
            "grid_template_columns": null,
            "flex": null,
            "_model_name": "LayoutModel",
            "justify_items": null,
            "grid_row": null,
            "max_height": null,
            "align_content": null,
            "visibility": null,
            "align_self": null,
            "height": null,
            "min_height": null,
            "padding": null,
            "grid_auto_rows": null,
            "grid_gap": null,
            "max_width": null,
            "order": null,
            "_view_module_version": "1.2.0",
            "grid_template_areas": null,
            "object_position": null,
            "object_fit": null,
            "grid_auto_columns": null,
            "margin": null,
            "display": null,
            "left": null
          }
        },
        "f615054107b3488ebd2284890f2a05f8": {
          "model_module": "@jupyter-widgets/controls",
          "model_name": "DescriptionStyleModel",
          "state": {
            "_view_name": "StyleView",
            "_model_name": "DescriptionStyleModel",
            "description_width": "",
            "_view_module": "@jupyter-widgets/base",
            "_model_module_version": "1.5.0",
            "_view_count": null,
            "_view_module_version": "1.2.0",
            "_model_module": "@jupyter-widgets/controls"
          }
        },
        "45e4168d1ced4106b33458cf07b21e9f": {
          "model_module": "@jupyter-widgets/base",
          "model_name": "LayoutModel",
          "state": {
            "_view_name": "LayoutView",
            "grid_template_rows": null,
            "right": null,
            "justify_content": null,
            "_view_module": "@jupyter-widgets/base",
            "overflow": null,
            "_model_module_version": "1.2.0",
            "_view_count": null,
            "flex_flow": null,
            "width": null,
            "min_width": null,
            "border": null,
            "align_items": null,
            "bottom": null,
            "_model_module": "@jupyter-widgets/base",
            "top": null,
            "grid_column": null,
            "overflow_y": null,
            "overflow_x": null,
            "grid_auto_flow": null,
            "grid_area": null,
            "grid_template_columns": null,
            "flex": null,
            "_model_name": "LayoutModel",
            "justify_items": null,
            "grid_row": null,
            "max_height": null,
            "align_content": null,
            "visibility": null,
            "align_self": null,
            "height": null,
            "min_height": null,
            "padding": null,
            "grid_auto_rows": null,
            "grid_gap": null,
            "max_width": null,
            "order": null,
            "_view_module_version": "1.2.0",
            "grid_template_areas": null,
            "object_position": null,
            "object_fit": null,
            "grid_auto_columns": null,
            "margin": null,
            "display": null,
            "left": null
          }
        }
      }
    }
  },
  "cells": [
    {
      "cell_type": "markdown",
      "metadata": {
        "id": "view-in-github",
        "colab_type": "text"
      },
      "source": [
        "<a href=\"https://colab.research.google.com/github/kienle371999/mxnet-text-to-image/blob/master/CNNs_week2%2B3_foundations_ND.ipynb\" target=\"_parent\"><img src=\"https://colab.research.google.com/assets/colab-badge.svg\" alt=\"Open In Colab\"/></a>"
      ]
    },
    {
      "cell_type": "markdown",
      "metadata": {
        "id": "tUcrt0tcpXwd",
        "colab_type": "text"
      },
      "source": [
        "# Information\n",
        "* Class: Special topics: Convolutional Neural Networks\n",
        "* Class id: INT3414 22\n",
        "* Lecturer: Nguyen Thi Ngoc Diep, Ph.D.\n",
        "* Email: ngocdiep\\atvnu.edu.vn\n",
        "* Slide & code: https://github.com/chupibk/INT3414_22\n",
        "\n",
        "\n",
        "\n",
        "---\n",
        "\n",
        "\n",
        "\n"
      ]
    },
    {
      "cell_type": "markdown",
      "metadata": {
        "id": "bQ_k1lrp1sBp",
        "colab_type": "text"
      },
      "source": [
        "# PyTorch packages and tensors\n",
        "\n",
        "- In PyTorch, everything is a tensor!\n",
        "  + from v.0.4.0, there is no distinction between Tensor and Variable anymore\n",
        "- Commonly used packages: \n",
        "  + `torch` provides all the necessary Tensor operators\n",
        "  + `torch.nn` provides neural network modules\n",
        "  + `torch.optim` contains various optimization algorithms\n",
        "\n",
        "---\n",
        "\n"
      ]
    },
    {
      "cell_type": "markdown",
      "metadata": {
        "id": "83qWsNOX4mqk",
        "colab_type": "text"
      },
      "source": [
        "### Importing packages and enable GPU\n"
      ]
    },
    {
      "cell_type": "code",
      "metadata": {
        "id": "DTKSEZBkrnd8",
        "colab_type": "code",
        "colab": {}
      },
      "source": [
        "#import the package\n",
        "import torch\n",
        "import torch.nn as nn\n",
        "import torch.optim as optim\n"
      ],
      "execution_count": 0,
      "outputs": []
    },
    {
      "cell_type": "code",
      "metadata": {
        "id": "cUyEKb1ZsujX",
        "colab_type": "code",
        "outputId": "f5910394-09d8-4f18-beae-efe27f62bfd7",
        "colab": {
          "base_uri": "https://localhost:8080/",
          "height": 34
        }
      },
      "source": [
        "torch.__version__"
      ],
      "execution_count": 0,
      "outputs": [
        {
          "output_type": "execute_result",
          "data": {
            "text/plain": [
              "'1.4.0'"
            ]
          },
          "metadata": {
            "tags": []
          },
          "execution_count": 2
        }
      ]
    },
    {
      "cell_type": "code",
      "metadata": {
        "id": "Xc5hjuNLrI9O",
        "colab_type": "code",
        "colab": {}
      },
      "source": [
        "# Enable cuda GPU\n",
        "use_cuda = True"
      ],
      "execution_count": 0,
      "outputs": []
    },
    {
      "cell_type": "code",
      "metadata": {
        "id": "ZuI9DwyuvNSL",
        "colab_type": "code",
        "outputId": "edb7335b-9afe-494a-caff-3a2cddb34410",
        "colab": {
          "base_uri": "https://localhost:8080/",
          "height": 34
        }
      },
      "source": [
        "print(torch.cuda.device_count()) "
      ],
      "execution_count": 0,
      "outputs": [
        {
          "output_type": "stream",
          "text": [
            "1\n"
          ],
          "name": "stdout"
        }
      ]
    },
    {
      "cell_type": "code",
      "metadata": {
        "id": "79o8ClqpvQ05",
        "colab_type": "code",
        "outputId": "f5656794-7204-43de-f298-2922ca00a98a",
        "colab": {
          "base_uri": "https://localhost:8080/",
          "height": 34
        }
      },
      "source": [
        "print(torch.cuda.get_device_name(0)) "
      ],
      "execution_count": 0,
      "outputs": [
        {
          "output_type": "stream",
          "text": [
            "Tesla K80\n"
          ],
          "name": "stdout"
        }
      ]
    },
    {
      "cell_type": "code",
      "metadata": {
        "id": "TdrkPo-WvQ4x",
        "colab_type": "code",
        "colab": {}
      },
      "source": [
        "cuda0 = torch.device('cuda:0')"
      ],
      "execution_count": 0,
      "outputs": []
    },
    {
      "cell_type": "markdown",
      "metadata": {
        "id": "5-aeKy1p3tXu",
        "colab_type": "text"
      },
      "source": [
        "### Define some *tensors*"
      ]
    },
    {
      "cell_type": "code",
      "metadata": {
        "id": "y14BQ8a4sDQr",
        "colab_type": "code",
        "colab": {}
      },
      "source": [
        "# data\n",
        "x = torch.tensor(([2, 9], [1, 5], [3, 6]), dtype=torch.float) # 3x2 tensor\n",
        "y = torch.tensor(([0], [1], [1]), dtype=torch.float)      # 3x1 tensor\n",
        "x_test = torch.tensor(([4,8]), dtype=torch.float)             # 1x2 tensor"
      ],
      "execution_count": 0,
      "outputs": []
    },
    {
      "cell_type": "code",
      "metadata": {
        "id": "HasbSWIhsmZL",
        "colab_type": "code",
        "outputId": "2aa993a3-a651-48ee-a620-2c0839a4cc9d",
        "colab": {
          "base_uri": "https://localhost:8080/",
          "height": 51
        }
      },
      "source": [
        "print(x.size())\n",
        "print(y.size())"
      ],
      "execution_count": 0,
      "outputs": [
        {
          "output_type": "stream",
          "text": [
            "torch.Size([3, 2])\n",
            "torch.Size([3, 1])\n"
          ],
          "name": "stdout"
        }
      ]
    },
    {
      "cell_type": "code",
      "metadata": {
        "id": "CVaauEgCvzKx",
        "colab_type": "code",
        "outputId": "f9a28430-7386-435a-e98b-c12144f97336",
        "colab": {
          "base_uri": "https://localhost:8080/",
          "height": 68
        }
      },
      "source": [
        "print(x)"
      ],
      "execution_count": 0,
      "outputs": [
        {
          "output_type": "stream",
          "text": [
            "tensor([[2., 9.],\n",
            "        [1., 5.],\n",
            "        [3., 6.]])\n"
          ],
          "name": "stdout"
        }
      ]
    },
    {
      "cell_type": "code",
      "metadata": {
        "id": "Vfnm1wpNsuRd",
        "colab_type": "code",
        "colab": {}
      },
      "source": [
        "#Scale the data to range [0, 1]\n",
        "x_max, _ = torch.max(x, 0)\n",
        "x_test_max, _ = torch.max(x_test, 0)\n",
        "\n",
        "\n",
        "x = torch.div(x, x_max)\n",
        "x_test = torch.div(x_test, x_test_max)\n"
      ],
      "execution_count": 0,
      "outputs": []
    },
    {
      "cell_type": "code",
      "metadata": {
        "id": "t-LNw77R45Pi",
        "colab_type": "code",
        "outputId": "b1282551-1218-459c-fb0f-6085e8f7e5fa",
        "colab": {
          "base_uri": "https://localhost:8080/",
          "height": 68
        }
      },
      "source": [
        "print(x)"
      ],
      "execution_count": 0,
      "outputs": [
        {
          "output_type": "stream",
          "text": [
            "tensor([[0.6667, 1.0000],\n",
            "        [0.3333, 0.5556],\n",
            "        [1.0000, 0.6667]])\n"
          ],
          "name": "stdout"
        }
      ]
    },
    {
      "cell_type": "markdown",
      "metadata": {
        "id": "bP5edXEX5BFO",
        "colab_type": "text"
      },
      "source": [
        "### GPU-enabled tensors\n"
      ]
    },
    {
      "cell_type": "code",
      "metadata": {
        "id": "lpmUPEqu4_9D",
        "colab_type": "code",
        "outputId": "f3db9561-6032-424b-d97d-7a312a0bbe7e",
        "colab": {
          "base_uri": "https://localhost:8080/",
          "height": 85
        }
      },
      "source": [
        "# a tensor of 4 observed data, each has 2 features\n",
        "x = torch.randn(4, 2, device=cuda0, dtype=torch.float) ### NOTE: we assign device=cuda0\n",
        "\n",
        "print(x)"
      ],
      "execution_count": 0,
      "outputs": [
        {
          "output_type": "stream",
          "text": [
            "tensor([[ 0.2141, -0.0354],\n",
            "        [ 0.3934,  0.8518],\n",
            "        [-0.7442,  0.1648],\n",
            "        [ 0.0674,  1.0748]], device='cuda:0')\n"
          ],
          "name": "stdout"
        }
      ]
    },
    {
      "cell_type": "markdown",
      "metadata": {
        "id": "FFmwPVRQ3--p",
        "colab_type": "text"
      },
      "source": [
        "\n",
        "\n",
        "---\n",
        "\n",
        "\n",
        "\n",
        "\n"
      ]
    },
    {
      "cell_type": "markdown",
      "metadata": {
        "id": "wu0OA-J4o5qm",
        "colab_type": "text"
      },
      "source": [
        "# A sample neural network for binary classification\n",
        "\n",
        "## Using Autograd"
      ]
    },
    {
      "cell_type": "code",
      "metadata": {
        "id": "gWtC1TER5-1P",
        "colab_type": "code",
        "colab": {}
      },
      "source": [
        "#Let's get some data\n",
        "\n",
        "import sklearn.datasets as datasets\n",
        "from sklearn.model_selection import train_test_split\n",
        "\n",
        "%matplotlib inline\n",
        "\n",
        "x, y = datasets.make_moons(500, noise=0.2)\n",
        "\n",
        "# Split into test and training data\n",
        "x_train, x_test, y_train, y_test = train_test_split(x, y,\n",
        "    test_size=0.25, random_state=73)\n"
      ],
      "execution_count": 0,
      "outputs": []
    },
    {
      "cell_type": "code",
      "metadata": {
        "id": "gFYgFior-iDQ",
        "colab_type": "code",
        "outputId": "a7a93272-db5e-47f1-d0cc-26c3ee3ed729",
        "colab": {
          "base_uri": "https://localhost:8080/",
          "height": 282
        }
      },
      "source": [
        "import matplotlib.pyplot as plt\n",
        "\n",
        "plt.scatter(x[:, 0], x[:, 1], s=40, c=y, cmap=\"spring\")"
      ],
      "execution_count": 0,
      "outputs": [
        {
          "output_type": "execute_result",
          "data": {
            "text/plain": [
              "<matplotlib.collections.PathCollection at 0x7f3b797002b0>"
            ]
          },
          "metadata": {
            "tags": []
          },
          "execution_count": 13
        },
        {
          "output_type": "display_data",
          "data": {
            "image/png": "[encoded data removed]",
            "text/plain": [
              "<Figure size 432x288 with 1 Axes>"
            ]
          },
          "metadata": {
            "tags": []
          }
        }
      ]
    },
    {
      "cell_type": "code",
      "metadata": {
        "id": "DGd6TVeXR5Nj",
        "colab_type": "code",
        "outputId": "1c85aebd-e59f-4890-f0a6-36ba3d9e9123",
        "colab": {
          "base_uri": "https://localhost:8080/",
          "height": 34
        }
      },
      "source": [
        "x.shape"
      ],
      "execution_count": 0,
      "outputs": [
        {
          "output_type": "execute_result",
          "data": {
            "text/plain": [
              "(500, 2)"
            ]
          },
          "metadata": {
            "tags": []
          },
          "execution_count": 3
        }
      ]
    },
    {
      "cell_type": "code",
      "metadata": {
        "id": "fYScr_5FuR6h",
        "colab_type": "code",
        "colab": {}
      },
      "source": [
        "\n"
      ],
      "execution_count": 0,
      "outputs": []
    },
    {
      "cell_type": "code",
      "metadata": {
        "id": "KMlPSMUisugu",
        "colab_type": "code",
        "outputId": "84a5a0f5-e83e-484e-dea4-12a6591c9f31",
        "colab": {
          "base_uri": "https://localhost:8080/",
          "height": 867
        }
      },
      "source": [
        "#convert x, y to torch tensor\n",
        "x_train_t  = torch.FloatTensor(x_train)\n",
        "y_train_t = torch.FloatTensor(y_train).reshape(-1, 1)\n",
        "\n",
        "#dimensions\n",
        "D_in = x.shape[1] # Input dimension, = 2\n",
        "H = 4 # hidden dimension, okay, let's use only one hidden layer\n",
        "D_out = 1 # output dimension\n",
        "\n",
        "\n",
        "\n",
        "#Initialize weights\n",
        "# w1*x + bias --> h        ##hidden layer 1\n",
        "# w2*h + bias --> output\n",
        "\n",
        "# Setting requires_grad=True indicates that we want to compute gradients\n",
        "# with respect to these tensors during the backward pass\n",
        "w1 = torch.randn(D_in, H, dtype=torch.float, requires_grad=True) \n",
        "w2 = torch.randn(H, D_out, dtype=torch.float, requires_grad=True)\n",
        "\n",
        "\n",
        "# Train = do feedforward + compute loss + backprop + update\n",
        "\n",
        "lr = 0.01 #learning rate\n",
        "loss_func = nn.BCELoss()\n",
        "for t in range(5000): #epochs\n",
        "  #forward pass: compute predicted y\n",
        "  h = x_train_t.mm(w1)\n",
        "  h_relu = h.clamp(min=0)\n",
        "  output = h_relu.mm(w2)\n",
        "  y_pred = torch.sigmoid(output)\n",
        "\n",
        "\n",
        "  #compute and print loss\n",
        "  # # loss is a Tensor of shape (1, )\n",
        "  loss = loss_func( y_pred, y_train_t)\n",
        "\n",
        "  if t % 100 == 99:\n",
        "    print(t, loss.item())\n",
        "  \n",
        "  # backprop to compute gradients of w1 and w2 with respect to loss\n",
        "  # for simplicity, let's use Autograd :)\n",
        "  # This call will compute the\n",
        "  # gradient of loss with respect to all Tensors with requires_grad=True.\n",
        "  # After this call w1.grad and w2.grad will be Tensors holding the gradient\n",
        "  # of the loss with respect to w1 and w2 respectively.\n",
        "  loss.backward()\n",
        "\n",
        "\n",
        "  # Manually update weights using gradient descent\n",
        "  # temporarily set all requies_grad flag to false in order to update weights\n",
        "  with torch.no_grad():\n",
        "    w1 -= lr * w1.grad\n",
        "    w2 -= lr * w2.grad\n",
        "\n",
        "    # manually zero the gradients after updating weights\n",
        "    # because PyTorch accumulates gradients on subsequent backward passes\n",
        "    w1.grad.zero_()\n",
        "    w2.grad.zero_()\n"
      ],
      "execution_count": 0,
      "outputs": [
        {
          "output_type": "stream",
          "text": [
            "99 0.7373479008674622\n",
            "199 0.6430650353431702\n",
            "299 0.6290316581726074\n",
            "399 0.6180451512336731\n",
            "499 0.6065322756767273\n",
            "599 0.595571756362915\n",
            "699 0.5857638120651245\n",
            "799 0.5768586993217468\n",
            "899 0.5687994956970215\n",
            "999 0.5615330934524536\n",
            "1099 0.5549282431602478\n",
            "1199 0.548872709274292\n",
            "1299 0.5433372259140015\n",
            "1399 0.538300633430481\n",
            "1499 0.5337609052658081\n",
            "1599 0.5295516848564148\n",
            "1699 0.5256500840187073\n",
            "1799 0.5220842957496643\n",
            "1899 0.5187596678733826\n",
            "1999 0.5156838893890381\n",
            "2099 0.5129964351654053\n",
            "2199 0.5108367800712585\n",
            "2299 0.5089223384857178\n",
            "2399 0.5071333050727844\n",
            "2499 0.5055103898048401\n",
            "2599 0.5039751529693604\n",
            "2699 0.5024687051773071\n",
            "2799 0.5010427236557007\n",
            "2899 0.4996756613254547\n",
            "2999 0.4983528256416321\n",
            "3099 0.4970317780971527\n",
            "3199 0.49565303325653076\n",
            "3299 0.4942221939563751\n",
            "3399 0.4927642345428467\n",
            "3499 0.4913415014743805\n",
            "3599 0.4899243712425232\n",
            "3699 0.48838046193122864\n",
            "3799 0.4868154227733612\n",
            "3899 0.48558592796325684\n",
            "3999 0.48444312810897827\n",
            "4099 0.48338353633880615\n",
            "4199 0.4825632870197296\n",
            "4299 0.4819362759590149\n",
            "4399 0.4813092350959778\n",
            "4499 0.4807237684726715\n",
            "4599 0.48024362325668335\n",
            "4699 0.4797937273979187\n",
            "4799 0.47940757870674133\n",
            "4899 0.4790777862071991\n",
            "4999 0.47876688838005066\n"
          ],
          "name": "stdout"
        }
      ]
    },
    {
      "cell_type": "code",
      "metadata": {
        "id": "piJFWfatsumA",
        "colab_type": "code",
        "colab": {}
      },
      "source": [
        ""
      ],
      "execution_count": 0,
      "outputs": []
    },
    {
      "cell_type": "markdown",
      "metadata": {
        "id": "2QYOphj0-DPl",
        "colab_type": "text"
      },
      "source": [
        "## PyTorch: nn module\n",
        "\n",
        "Provide higher-level abstractions over raw computational graphs that are useful for building neural networks."
      ]
    },
    {
      "cell_type": "code",
      "metadata": {
        "id": "pUV7cMAGEYAh",
        "colab_type": "code",
        "colab": {}
      },
      "source": [
        "import torch\n",
        "import torch.nn as nn\n",
        "import numpy as np\n",
        "\n",
        "import sklearn.datasets as datasets\n",
        "from sklearn.model_selection import train_test_split\n",
        "import matplotlib.pyplot as plt\n",
        "\n",
        "%matplotlib inline\n",
        "\n",
        "x, y = datasets.make_moons(500, noise=0.2)\n",
        "\n",
        "# Split into test and training data\n",
        "x_train, x_test, y_train, y_test = train_test_split(x, y,\n",
        "    test_size=0.25, random_state=73)\n",
        "\n",
        "#convert to tensors\n",
        "x_train_t  = torch.FloatTensor(x_train)\n",
        "y_train_t = torch.FloatTensor(y_train).reshape(-1, 1)\n"
      ],
      "execution_count": 0,
      "outputs": []
    },
    {
      "cell_type": "code",
      "metadata": {
        "id": "EmLbH6YK-nTQ",
        "colab_type": "code",
        "outputId": "e7519e90-5058-419d-8346-e77a40dee2b1",
        "colab": {
          "base_uri": "https://localhost:8080/",
          "height": 755
        }
      },
      "source": [
        "import numpy as np\n",
        "\n",
        "# random input and output data\n",
        "D_in, H, D_out = 2, 4, 1\n",
        "\n",
        "# use nn package to define our model as a sequence of layers.\n",
        "# nn.Sequential is a Module which contains other modules, and applies them in sequences to produce its output.\n",
        "# Each Linear Module computes output from input using a linear function, and holds internal Tensors for its weight and bias\n",
        "\n",
        "model = nn.Sequential(\n",
        "    nn.Linear(D_in, H),\n",
        "    nn.ReLU(),\n",
        "    nn.Linear(H, D_out),\n",
        "    nn.Sigmoid()\n",
        ")\n",
        "\n",
        "# nn package also contains defiinitions of popular loss functions\n",
        "loss_fn = nn.BCELoss()\n",
        "lr = 0.01 #learning rate\n",
        "optimizer = torch.optim.Adam(\n",
        "      model.parameters(),\n",
        "      lr=lr\n",
        ")\n",
        "\n",
        "# log\n",
        "train_loss = []\n",
        "train_accuracy = []\n",
        "for t in range(1000): #num epochs\n",
        "    # Forward pass: compute predicted y by passing x to the model.\n",
        "    y_pred = model(x_train_t)\n",
        "\n",
        "    # Compute and print loss.\n",
        "    loss = loss_fn(y_pred, y_train_t)\n",
        "    if t % 100 == 99:\n",
        "        print(t, loss.item())\n",
        "\n",
        "    # Clear the buffers of all gradients before backward pass \n",
        "    optimizer.zero_grad()\n",
        "\n",
        "    # Backward pass: compute gradient of the loss with respect to model parameters\n",
        "    loss.backward()\n",
        "\n",
        "    # Calling the step function on an Optimizer makes an update to its parameters\n",
        "    optimizer.step()\n",
        "\n",
        "    #log the training info\n",
        "    y_pred_class = np.where(y_pred.detach().numpy()<0.5, 0, 1)\n",
        "    accuracy = np.sum(y_train.reshape(-1, 1) == y_pred_class) / len(y_train)\n",
        "    train_accuracy.append(accuracy)  \n",
        "    train_loss.append(loss.item())\n",
        "\n",
        "  \n",
        "\n",
        "#visualize the training log\n",
        "fig, ax = plt.subplots(2, 1, figsize=(12,8))\n",
        "ax[0].plot(train_loss)\n",
        "ax[0].set_ylabel('Loss')\n",
        "ax[0].set_title('Training Loss')\n",
        "\n",
        "ax[1].plot(train_accuracy)\n",
        "ax[1].set_ylabel('Classification Accuracy')\n",
        "ax[1].set_title('Training Accuracy')\n",
        "\n",
        "plt.tight_layout()\n",
        "plt.show()"
      ],
      "execution_count": 0,
      "outputs": [
        {
          "output_type": "stream",
          "text": [
            "99 0.32643601298332214\n",
            "199 0.2757432162761688\n",
            "299 0.25963324308395386\n",
            "399 0.25024038553237915\n",
            "499 0.24700400233268738\n",
            "599 0.24559710919857025\n",
            "699 0.24482783675193787\n",
            "799 0.24415405094623566\n",
            "899 0.24353250861167908\n",
            "999 0.24309110641479492\n"
          ],
          "name": "stdout"
        },
        {
          "output_type": "display_data",
          "data": {
            "image/png": "[encoded data removed]",
            "text/plain": [
              "<Figure size 864x576 with 2 Axes>"
            ]
          },
          "metadata": {
            "tags": []
          }
        }
      ]
    },
    {
      "cell_type": "markdown",
      "metadata": {
        "id": "urxwJ2eV-nWQ",
        "colab_type": "text"
      },
      "source": [
        "## More complex model"
      ]
    },
    {
      "cell_type": "code",
      "metadata": {
        "id": "NXiRl1Y0-nZR",
        "colab_type": "code",
        "outputId": "b7543ad6-9511-4afe-889d-c87cc346e262",
        "colab": {
          "base_uri": "https://localhost:8080/",
          "height": 187
        }
      },
      "source": [
        "import torch\n",
        "import torch.nn as nn\n",
        "import torch.nn.functional as F\n",
        "\n",
        "\n",
        "class DynamicNet(nn.Module):\n",
        "  def __init__(self, D_in, H, D_out):\n",
        "    '''\n",
        "    construct layer instances that we will use in forward pass\n",
        "    '''\n",
        "    super(DynamicNet, self).__init__()\n",
        "    self.input_linear = nn.Linear(D_in, H)\n",
        "    self.middle_linear = nn.Linear(H, H)\n",
        "    self.output_linear = nn.Linear(H, D_out)\n",
        "\n",
        "\n",
        "  def forward(self, x):\n",
        "    '''\n",
        "    build the computation graph\n",
        "    '''\n",
        "    x = self.input_linear(x)\n",
        "    x = F.relu(x)\n",
        "    \n",
        "    for _ in range(4): #we'll have 4 hidden layers\n",
        "      x = self.middle_linear(x)\n",
        "      x = F.relu(x)\n",
        "    x = self.output_linear(x)\n",
        "    out = torch.sigmoid(x)\n",
        "    \n",
        "    return out\n",
        "\n",
        "\n",
        "\n",
        "#data\n",
        "D_in, H, D_out = 2, 4, 1\n",
        "\n",
        "\n",
        "model = DynamicNet(D_in, H, D_out)\n",
        "\n",
        "# Construct our loss function and an Optimizer. Training this strange model with\n",
        "# vanilla stochastic gradient descent is tough, so we use momentum\n",
        "criterion = torch.nn.BCELoss()\n",
        "optimizer = torch.optim.Adam(model.parameters(), lr=1e-2)\n",
        "for t in range(1000):\n",
        "    # Forward pass: Compute predicted y by passing x to the model\n",
        "    y_pred = model(x_train_t)\n",
        "\n",
        "    # Compute and print loss\n",
        "    loss = criterion(y_pred, y_train_t)\n",
        "    if t % 100 == 99:\n",
        "        print(t, loss.item())\n",
        "\n",
        "    # Zero gradients, perform a backward pass, and update the weights.\n",
        "    optimizer.zero_grad()\n",
        "    loss.backward()\n",
        "    optimizer.step()\n",
        "\n",
        "\n"
      ],
      "execution_count": 0,
      "outputs": [
        {
          "output_type": "stream",
          "text": [
            "99 0.3758455812931061\n",
            "199 0.19530275464057922\n",
            "299 0.13623546063899994\n",
            "399 0.13012175261974335\n",
            "499 0.1267622709274292\n",
            "599 0.12296771258115768\n",
            "699 0.12078988552093506\n",
            "799 0.11968906968832016\n",
            "899 0.11874430626630783\n",
            "999 0.11808303743600845\n"
          ],
          "name": "stdout"
        }
      ]
    },
    {
      "cell_type": "markdown",
      "metadata": {
        "id": "f9ZY2tNEBTYW",
        "colab_type": "text"
      },
      "source": [
        "## Performance evaluation on test data"
      ]
    },
    {
      "cell_type": "code",
      "metadata": {
        "id": "rrVY5kv8-neV",
        "colab_type": "code",
        "outputId": "6d222629-81e1-4745-a487-3a27590ed97e",
        "colab": {
          "base_uri": "https://localhost:8080/",
          "height": 51
        }
      },
      "source": [
        "# Evaluate the performance on test data\n",
        "from sklearn.metrics import accuracy_score\n",
        "\n",
        "# convert to tensor\n",
        "x_test_t = torch.FloatTensor(x_test)\n",
        "\n",
        "# do the forward pass\n",
        "y_pred = model(x_test_t)\n",
        "\n",
        "#get the predicted classes\n",
        "y_pred_class = np.where(y_pred.detach().numpy()<0.5, 0, 1)\n",
        "score = accuracy_score(y_pred_class, y_test)\n",
        "\n",
        "print(score)\n",
        "\n",
        "#or do it manually\n",
        "accuracy = np.sum(y_test.reshape(-1, 1) == y_pred_class) / len(y_test)\n",
        "print(accuracy)"
      ],
      "execution_count": 0,
      "outputs": [
        {
          "output_type": "stream",
          "text": [
            "0.888\n",
            "0.888\n"
          ],
          "name": "stdout"
        }
      ]
    },
    {
      "cell_type": "code",
      "metadata": {
        "id": "fYnrAdPm-nhe",
        "colab_type": "code",
        "colab": {}
      },
      "source": [
        "# Forward pass\n",
        "y_pred = model(x_train_t)\n",
        "\n",
        "# Compute loss.\n",
        "loss = loss_fn(y_pred, y_train_t)\n",
        "\n",
        "# Clear gradient buffers \n",
        "optimizer.zero_grad()\n",
        "\n",
        "# Backward pass: compute gradients\n",
        "loss.backward()\n",
        "\n",
        "# Update parameters\n",
        "optimizer.step()"
      ],
      "execution_count": 0,
      "outputs": []
    },
    {
      "cell_type": "code",
      "metadata": {
        "id": "FEAJaqY--nkj",
        "colab_type": "code",
        "colab": {}
      },
      "source": [
        ""
      ],
      "execution_count": 0,
      "outputs": []
    },
    {
      "cell_type": "markdown",
      "metadata": {
        "id": "jo4sq6BBEe5z",
        "colab_type": "text"
      },
      "source": [
        "# Understand backpropagation\n",
        "\n",
        "(out of scope for INT3414_22)"
      ]
    },
    {
      "cell_type": "markdown",
      "metadata": {
        "id": "hXkogQYNpEtk",
        "colab_type": "text"
      },
      "source": [
        "# Example Convolutional Neural Network\n",
        "\n",
        "### Load the MNIST dataset\n"
      ]
    },
    {
      "cell_type": "code",
      "metadata": {
        "id": "AtX1kTGbdG39",
        "colab_type": "code",
        "outputId": "36102977-ccf0-4b2d-d3ef-28bc97b566c4",
        "colab": {
          "base_uri": "https://localhost:8080/",
          "height": 332,
          "referenced_widgets": [
            "61531261b3a74bb1871e79670567dfc1",
            "0f9865d69b72413baf617d65a7aa1f1d",
            "3e0d066df6c4468ea26855d2a9631f73",
            "73cd275aea734bd1851b30762895fba5",
            "98a900d113cb42029c9b1a7a3e51fe08",
            "f3fbe72f88ee4628acb93aeab9335e87",
            "baea7e72d3e04c698241f633704fca45",
            "cea5558f48e34fc49285fbfb8f780f38",
            "8ba0c836a64844dca2503a57cb25e771",
            "d2de99509f314b3d9abe10c60eb19f1d",
            "182f34eca0344da79afc3fed567a5f58",
            "6161f7bb68d24f399726f400aba8dddc",
            "7261d358cd2e45efb8fe4a4a45110b0a",
            "f5eaa7942c22422d9893949282e661e3",
            "39d5b78de7df4f2f91eaf02fc992c745",
            "a603a5ab297a4eb6b2253d03ac4b71bc",
            "ba41e5863e4b4be7b0f77c12286c3ff7",
            "075765547a5a4280afca2f8d3daa58ff",
            "fa01f650a84b484691405a7b9eabca7f",
            "bd8af090799f49b59ce79eda590acce1",
            "a460df9e805c4f65b8787b83ffd720c2",
            "f9920bc8b76849db9b86dc3c4c217596",
            "f90f8574261842f6bf27506fcb8c0853",
            "1367a6c3f82c42a9a1a81c4834896782",
            "b3d24e8537f24eeead04261ccbb52410",
            "11b82b3f32d542c4bd1907a31204245e",
            "30ef21cb583343a4b00a29da169b98e2",
            "0c7a26d293a34bc08ef5198e6ce0d206",
            "67d4bf10b6f548f0b09e729cf6e70f1d",
            "d32058d2971f498387b8bb4f0eba883b",
            "f615054107b3488ebd2284890f2a05f8",
            "45e4168d1ced4106b33458cf07b21e9f"
          ]
        }
      },
      "source": [
        "import torch\n",
        "import torchvision\n",
        "\n",
        "train_loader = torch.utils.data.DataLoader(\n",
        "    torchvision.datasets.MNIST(\"/files/\", train=True, download=True,\n",
        "                               transform=torchvision.transforms.Compose([\n",
        "                                  torchvision.transforms.ToTensor(),\n",
        "                                  torchvision.transforms.Normalize(\n",
        "                                      (0.1307,), (0.3081,)\n",
        "                                  )\n",
        "                               ])),\n",
        "    batch_size=64, shuffle=True\n",
        ")\n",
        "\n",
        "test_loader = torch.utils.data.DataLoader(\n",
        "    torchvision.datasets.MNIST(\"/files/\", train=False, download=True,\n",
        "                               transform=torchvision.transforms.Compose([\n",
        "                                  torchvision.transforms.ToTensor(),\n",
        "                                  torchvision.transforms.Normalize(\n",
        "                                      (0.1307,), (0.3081,)\n",
        "                                  )\n",
        "                               ])),\n",
        "    batch_size=64, shuffle=True\n",
        ")"
      ],
      "execution_count": 0,
      "outputs": [
        {
          "output_type": "stream",
          "text": [
            "Downloading http://yann.lecun.com/exdb/mnist/train-images-idx3-ubyte.gz to /files/MNIST/raw/train-images-idx3-ubyte.gz\n"
          ],
          "name": "stdout"
        },
        {
          "output_type": "display_data",
          "data": {
            "application/vnd.jupyter.widget-view+json": {
              "model_id": "61531261b3a74bb1871e79670567dfc1",
              "version_minor": 0,
              "version_major": 2
            },
            "text/plain": [
              "HBox(children=(IntProgress(value=1, bar_style='info', max=1), HTML(value='')))"
            ]
          },
          "metadata": {
            "tags": []
          }
        },
        {
          "output_type": "stream",
          "text": [
            "Extracting /files/MNIST/raw/train-images-idx3-ubyte.gz to /files/MNIST/raw\n",
            "Downloading http://yann.lecun.com/exdb/mnist/train-labels-idx1-ubyte.gz to /files/MNIST/raw/train-labels-idx1-ubyte.gz\n"
          ],
          "name": "stdout"
        },
        {
          "output_type": "display_data",
          "data": {
            "application/vnd.jupyter.widget-view+json": {
              "model_id": "8ba0c836a64844dca2503a57cb25e771",
              "version_minor": 0,
              "version_major": 2
            },
            "text/plain": [
              "HBox(children=(IntProgress(value=1, bar_style='info', max=1), HTML(value='')))"
            ]
          },
          "metadata": {
            "tags": []
          }
        },
        {
          "output_type": "stream",
          "text": [
            "Extracting /files/MNIST/raw/train-labels-idx1-ubyte.gz to /files/MNIST/raw\n",
            "Downloading http://yann.lecun.com/exdb/mnist/t10k-images-idx3-ubyte.gz to /files/MNIST/raw/t10k-images-idx3-ubyte.gz\n",
            "\n"
          ],
          "name": "stdout"
        },
        {
          "output_type": "display_data",
          "data": {
            "application/vnd.jupyter.widget-view+json": {
              "model_id": "ba41e5863e4b4be7b0f77c12286c3ff7",
              "version_minor": 0,
              "version_major": 2
            },
            "text/plain": [
              "HBox(children=(IntProgress(value=1, bar_style='info', max=1), HTML(value='')))"
            ]
          },
          "metadata": {
            "tags": []
          }
        },
        {
          "output_type": "stream",
          "text": [
            "Extracting /files/MNIST/raw/t10k-images-idx3-ubyte.gz to /files/MNIST/raw\n",
            "Downloading http://yann.lecun.com/exdb/mnist/t10k-labels-idx1-ubyte.gz to /files/MNIST/raw/t10k-labels-idx1-ubyte.gz\n"
          ],
          "name": "stdout"
        },
        {
          "output_type": "display_data",
          "data": {
            "application/vnd.jupyter.widget-view+json": {
              "model_id": "b3d24e8537f24eeead04261ccbb52410",
              "version_minor": 0,
              "version_major": 2
            },
            "text/plain": [
              "HBox(children=(IntProgress(value=1, bar_style='info', max=1), HTML(value='')))"
            ]
          },
          "metadata": {
            "tags": []
          }
        },
        {
          "output_type": "stream",
          "text": [
            "Extracting /files/MNIST/raw/t10k-labels-idx1-ubyte.gz to /files/MNIST/raw\n",
            "Processing...\n",
            "Done!\n"
          ],
          "name": "stdout"
        }
      ]
    },
    {
      "cell_type": "code",
      "metadata": {
        "id": "q-CQaES5fJG5",
        "colab_type": "code",
        "outputId": "696c6b2b-8ce5-4980-c714-6fec7258b175",
        "colab": {
          "base_uri": "https://localhost:8080/",
          "height": 51
        }
      },
      "source": [
        "arr = [ 0, 1, 2, 3]\n",
        "arr2 = (i for i in arr)\n",
        "print(type(arr))\n",
        "type(arr2)\n"
      ],
      "execution_count": 0,
      "outputs": [
        {
          "output_type": "stream",
          "text": [
            "<class 'list'>\n"
          ],
          "name": "stdout"
        },
        {
          "output_type": "execute_result",
          "data": {
            "text/plain": [
              "generator"
            ]
          },
          "metadata": {
            "tags": []
          },
          "execution_count": 6
        }
      ]
    },
    {
      "cell_type": "code",
      "metadata": {
        "id": "6bN0ylYTf6Pe",
        "colab_type": "code",
        "outputId": "a89ed2e4-43f0-4a40-f8ad-b3ba65ba295f",
        "colab": {
          "base_uri": "https://localhost:8080/",
          "height": 34
        }
      },
      "source": [
        "arr"
      ],
      "execution_count": 0,
      "outputs": [
        {
          "output_type": "execute_result",
          "data": {
            "text/plain": [
              "[0, 1, 2, 3]"
            ]
          },
          "metadata": {
            "tags": []
          },
          "execution_count": 7
        }
      ]
    },
    {
      "cell_type": "code",
      "metadata": {
        "id": "Yq6MyG67f9QW",
        "colab_type": "code",
        "outputId": "c91f800a-49bf-408b-c8dc-7d6c58e81560",
        "colab": {
          "base_uri": "https://localhost:8080/",
          "height": 34
        }
      },
      "source": [
        "next(arr2)"
      ],
      "execution_count": 0,
      "outputs": [
        {
          "output_type": "execute_result",
          "data": {
            "text/plain": [
              "0"
            ]
          },
          "metadata": {
            "tags": []
          },
          "execution_count": 9
        }
      ]
    },
    {
      "cell_type": "code",
      "metadata": {
        "id": "qKLAj5zMgCYw",
        "colab_type": "code",
        "outputId": "3b301419-788a-466f-8d15-750110495ad5",
        "colab": {
          "base_uri": "https://localhost:8080/",
          "height": 34
        }
      },
      "source": [
        "next(arr2)"
      ],
      "execution_count": 0,
      "outputs": [
        {
          "output_type": "execute_result",
          "data": {
            "text/plain": [
              "1"
            ]
          },
          "metadata": {
            "tags": []
          },
          "execution_count": 10
        }
      ]
    },
    {
      "cell_type": "code",
      "metadata": {
        "id": "Ky_LVnt-gO9V",
        "colab_type": "code",
        "outputId": "96a0eea4-86d3-4dae-e465-dd57a0f71c43",
        "colab": {
          "base_uri": "https://localhost:8080/",
          "height": 34
        }
      },
      "source": [
        "list(arr2)"
      ],
      "execution_count": 0,
      "outputs": [
        {
          "output_type": "execute_result",
          "data": {
            "text/plain": [
              "[2, 3]"
            ]
          },
          "metadata": {
            "tags": []
          },
          "execution_count": 11
        }
      ]
    },
    {
      "cell_type": "code",
      "metadata": {
        "id": "EgbcPNN5dx1E",
        "colab_type": "code",
        "outputId": "a43b0882-1735-4b2e-e4e9-31b35c435965",
        "colab": {
          "base_uri": "https://localhost:8080/",
          "height": 130
        }
      },
      "source": [
        "|# let's display some data\n",
        "\n",
        "examples = enumerate(train_loader)\n",
        "batch_idx, (example_data, example_targets) = next(examples)\n",
        "print(example_data.shape)\n",
        "\n"
      ],
      "execution_count": 0,
      "outputs": [
        {
          "output_type": "error",
          "ename": "SyntaxError",
          "evalue": "ignored",
          "traceback": [
            "\u001b[0;36m  File \u001b[0;32m\"<ipython-input-17-db22e4613986>\"\u001b[0;36m, line \u001b[0;32m1\u001b[0m\n\u001b[0;31m    |# let's display some data\u001b[0m\n\u001b[0m    ^\u001b[0m\n\u001b[0;31mSyntaxError\u001b[0m\u001b[0;31m:\u001b[0m invalid syntax\n"
          ]
        }
      ]
    },
    {
      "cell_type": "markdown",
      "metadata": {
        "id": "BIOT1rqQecd8",
        "colab_type": "text"
      },
      "source": [
        "|-> a data batch as a tensor of shape: `torch.Size([64, 1, 28, 28])` (i.e., [num_data, num_channel, height, width])\n",
        "\n",
        "This means we have 64 examples of 28x28 pixels in 1 channel (grayscale)."
      ]
    },
    {
      "cell_type": "code",
      "metadata": {
        "id": "SqWcmCXOfAEC",
        "colab_type": "code",
        "outputId": "3a4899c1-1190-4713-f758-7637f446d2d3",
        "colab": {
          "base_uri": "https://localhost:8080/",
          "height": 551
        }
      },
      "source": [
        "import matplotlib.pyplot as plt\n",
        "%matplotlib inline\n",
        "\n",
        "fig = plt.figure()\n",
        "for i in range(6):\n",
        "  plt.subplot(2,3,i+1)\n",
        "  plt.tight_layout()\n",
        "  plt.imshow(example_data[i][0], cmap='gray', interpolation='none')\n",
        "  plt.title(\"Ground Truth: {}\".format(example_targets[i]))\n",
        "  plt.xticks([])\n",
        "  plt.yticks([])\n",
        "fig"
      ],
      "execution_count": 0,
      "outputs": [
        {
          "output_type": "execute_result",
          "data": {
            "image/png": "[encoded data removed]",
            "text/plain": [
              "<Figure size 432x288 with 6 Axes>"
            ]
          },
          "metadata": {
            "tags": []
          },
          "execution_count": 5
        },
        {
          "output_type": "display_data",
          "data": {
            "image/png": "[encoded data removed]",
            "text/plain": [
              "<Figure size 432x288 with 6 Axes>"
            ]
          },
          "metadata": {
            "tags": []
          }
        }
      ]
    },
    {
      "cell_type": "markdown",
      "metadata": {
        "id": "KjmXIdXJfQKH",
        "colab_type": "text"
      },
      "source": [
        "## Build a convolutional network"
      ]
    },
    {
      "cell_type": "code",
      "metadata": {
        "id": "etSOs2dSfVvI",
        "colab_type": "code",
        "colab": {}
      },
      "source": [
        "import torch.nn as nn\n",
        "import torch.nn.functional as F\n",
        "import torch.optim as optim\n",
        "\n",
        "class MyModel(nn.Module):\n",
        "  def __init__(self):\n",
        "    super(MyModel, self).__init__()\n",
        "    self.conv1 = nn.Conv2d(1, 10, kernel_size=5)   #https://pytorch.org/docs/stable/nn.html?highlight=conv2d#torch.nn.Conv2d\n",
        "    self.conv2 = nn.Conv2d(10, 20, kernel_size=3)\n",
        "    self.fc1 = nn.Linear(500, 50) # how to find this 500 as dimesion in?\n",
        "    self.fc2 = nn.Linear(50, 10)\n",
        "  \n",
        "  def forward(self, x):\n",
        "    x = self.conv1(x)\n",
        "    x = F.max_pool2d(x, 2)\n",
        "    x = F.relu(x)\n",
        "    x = self.conv2(x)\n",
        "    x = F.max_pool2d(x, 2)\n",
        "    x = F.relu(x)\n",
        "    x = torch.flatten(x, 1)\n",
        "   \n",
        "    x = self.fc1(x)\n",
        "    x = F.relu(x)\n",
        "    x = self.fc2(x)\n",
        "    x = F.log_softmax(x, dim=1)\n",
        "    return x\n",
        "\n",
        "\n",
        "#28x28x1 -conv1-> (28-5+1)x(28-5+1) = 24x24x10 -maxpool--> 12x12x10 -conv2-> (12-3+1)x(12-3+1)x20=10x10x20 -maxpool-> 5x5x20 =500\n"
      ],
      "execution_count": 0,
      "outputs": []
    },
    {
      "cell_type": "code",
      "metadata": {
        "id": "UwNKhHCVfV9i",
        "colab_type": "code",
        "outputId": "3fe93090-c2d7-4a03-e393-cb20b8b7b01a",
        "colab": {
          "base_uri": "https://localhost:8080/",
          "height": 34
        }
      },
      "source": [
        "model = MyModel()\n",
        "\n",
        "#calculate total parameters .  #--> confirm this by hand :)\n",
        "# conv1: 5x5x1x10 + 10 + 3x3x10x20 + 20 + 500x50+50 +50x10+10\n",
        "num_params = sum(p.numel() for p in model.parameters() if p.requires_grad)\n",
        "print(\"Total parameters: \", num_params)"
      ],
      "execution_count": 0,
      "outputs": [
        {
          "output_type": "stream",
          "text": [
            "Total parameters:  27640\n"
          ],
          "name": "stdout"
        }
      ]
    },
    {
      "cell_type": "markdown",
      "metadata": {
        "id": "E188BABvfWVX",
        "colab_type": "text"
      },
      "source": [
        ""
      ]
    },
    {
      "cell_type": "code",
      "metadata": {
        "id": "GURPXyG_nqiX",
        "colab_type": "code",
        "outputId": "9686ddcf-4c65-4939-a377-af4e1a60fe09",
        "colab": {
          "base_uri": "https://localhost:8080/",
          "height": 1000
        }
      },
      "source": [
        "\n",
        "n_epochs = 3\n",
        "batch_size = 64\n",
        "learning_rate = 0.01\n",
        "log_interval = 10\n",
        "\n",
        "loss = F.nll_loss\n",
        "optimizer = optim.Adam(model.parameters(),\n",
        "                       lr=learning_rate,\n",
        "                     )\n",
        "\n",
        "train_losses = []\n",
        "train_counter = []\n",
        "for epoch in range(1, n_epochs+1):\n",
        "  for batch_idx, (data, target) in enumerate(train_loader):\n",
        "    #forward\n",
        "    output = model(data)\n",
        "    #loss\n",
        "    loss = F.nll_loss(output, target)\n",
        "\n",
        "    #backward\n",
        "    optimizer.zero_grad()\n",
        "    loss.backward()\n",
        "    #update\n",
        "    optimizer.step()\n",
        "    if batch_idx % log_interval == 0:\n",
        "      print('Train Epoch: {} [{}/{} ({:.0f}%)]\\tLoss: {:.6f}'.format(\n",
        "        epoch, batch_idx * len(data), len(train_loader.dataset),\n",
        "        100. * batch_idx / len(train_loader), loss.item()))\n",
        "      train_losses.append(loss.item())\n",
        "      train_counter.append(\n",
        "        (batch_idx*64) + ((epoch-1)*len(train_loader.dataset)))\n",
        "      "
      ],
      "execution_count": 0,
      "outputs": [
        {
          "output_type": "stream",
          "text": [
            "Train Epoch: 1 [0/60000 (0%)]\tLoss: 2.300459\n",
            "Train Epoch: 1 [640/60000 (1%)]\tLoss: 1.088380\n",
            "Train Epoch: 1 [1280/60000 (2%)]\tLoss: 0.564932\n",
            "Train Epoch: 1 [1920/60000 (3%)]\tLoss: 0.243718\n",
            "Train Epoch: 1 [2560/60000 (4%)]\tLoss: 0.373786\n",
            "Train Epoch: 1 [3200/60000 (5%)]\tLoss: 0.156407\n",
            "Train Epoch: 1 [3840/60000 (6%)]\tLoss: 0.246752\n",
            "Train Epoch: 1 [4480/60000 (7%)]\tLoss: 0.104116\n",
            "Train Epoch: 1 [5120/60000 (9%)]\tLoss: 0.323688\n",
            "Train Epoch: 1 [5760/60000 (10%)]\tLoss: 0.090788\n",
            "Train Epoch: 1 [6400/60000 (11%)]\tLoss: 0.104670\n",
            "Train Epoch: 1 [7040/60000 (12%)]\tLoss: 0.079260\n",
            "Train Epoch: 1 [7680/60000 (13%)]\tLoss: 0.078546\n",
            "Train Epoch: 1 [8320/60000 (14%)]\tLoss: 0.019299\n",
            "Train Epoch: 1 [8960/60000 (15%)]\tLoss: 0.038965\n",
            "Train Epoch: 1 [9600/60000 (16%)]\tLoss: 0.107725\n",
            "Train Epoch: 1 [10240/60000 (17%)]\tLoss: 0.108383\n",
            "Train Epoch: 1 [10880/60000 (18%)]\tLoss: 0.124631\n",
            "Train Epoch: 1 [11520/60000 (19%)]\tLoss: 0.105505\n",
            "Train Epoch: 1 [12160/60000 (20%)]\tLoss: 0.027502\n",
            "Train Epoch: 1 [12800/60000 (21%)]\tLoss: 0.101711\n",
            "Train Epoch: 1 [13440/60000 (22%)]\tLoss: 0.136502\n",
            "Train Epoch: 1 [14080/60000 (23%)]\tLoss: 0.144630\n",
            "Train Epoch: 1 [14720/60000 (25%)]\tLoss: 0.229963\n",
            "Train Epoch: 1 [15360/60000 (26%)]\tLoss: 0.158103\n",
            "Train Epoch: 1 [16000/60000 (27%)]\tLoss: 0.036952\n",
            "Train Epoch: 1 [16640/60000 (28%)]\tLoss: 0.235499\n",
            "Train Epoch: 1 [17280/60000 (29%)]\tLoss: 0.114045\n",
            "Train Epoch: 1 [17920/60000 (30%)]\tLoss: 0.091163\n",
            "Train Epoch: 1 [18560/60000 (31%)]\tLoss: 0.251303\n",
            "Train Epoch: 1 [19200/60000 (32%)]\tLoss: 0.178454\n",
            "Train Epoch: 1 [19840/60000 (33%)]\tLoss: 0.163116\n",
            "Train Epoch: 1 [20480/60000 (34%)]\tLoss: 0.102178\n",
            "Train Epoch: 1 [21120/60000 (35%)]\tLoss: 0.015663\n",
            "Train Epoch: 1 [21760/60000 (36%)]\tLoss: 0.294932\n",
            "Train Epoch: 1 [22400/60000 (37%)]\tLoss: 0.044127\n",
            "Train Epoch: 1 [23040/60000 (38%)]\tLoss: 0.022337\n",
            "Train Epoch: 1 [23680/60000 (39%)]\tLoss: 0.186135\n",
            "Train Epoch: 1 [24320/60000 (41%)]\tLoss: 0.117068\n",
            "Train Epoch: 1 [24960/60000 (42%)]\tLoss: 0.074039\n",
            "Train Epoch: 1 [25600/60000 (43%)]\tLoss: 0.110222\n",
            "Train Epoch: 1 [26240/60000 (44%)]\tLoss: 0.234336\n",
            "Train Epoch: 1 [26880/60000 (45%)]\tLoss: 0.034526\n",
            "Train Epoch: 1 [27520/60000 (46%)]\tLoss: 0.083253\n",
            "Train Epoch: 1 [28160/60000 (47%)]\tLoss: 0.282431\n",
            "Train Epoch: 1 [28800/60000 (48%)]\tLoss: 0.047564\n",
            "Train Epoch: 1 [29440/60000 (49%)]\tLoss: 0.043139\n",
            "Train Epoch: 1 [30080/60000 (50%)]\tLoss: 0.225588\n",
            "Train Epoch: 1 [30720/60000 (51%)]\tLoss: 0.129679\n",
            "Train Epoch: 1 [31360/60000 (52%)]\tLoss: 0.163246\n",
            "Train Epoch: 1 [32000/60000 (53%)]\tLoss: 0.094482\n",
            "Train Epoch: 1 [32640/60000 (54%)]\tLoss: 0.122991\n",
            "Train Epoch: 1 [33280/60000 (55%)]\tLoss: 0.152918\n",
            "Train Epoch: 1 [33920/60000 (57%)]\tLoss: 0.069773\n",
            "Train Epoch: 1 [34560/60000 (58%)]\tLoss: 0.243514\n",
            "Train Epoch: 1 [35200/60000 (59%)]\tLoss: 0.139944\n",
            "Train Epoch: 1 [35840/60000 (60%)]\tLoss: 0.422644\n",
            "Train Epoch: 1 [36480/60000 (61%)]\tLoss: 0.152997\n",
            "Train Epoch: 1 [37120/60000 (62%)]\tLoss: 0.096949\n",
            "Train Epoch: 1 [37760/60000 (63%)]\tLoss: 0.008231\n",
            "Train Epoch: 1 [38400/60000 (64%)]\tLoss: 0.070248\n",
            "Train Epoch: 1 [39040/60000 (65%)]\tLoss: 0.204461\n",
            "Train Epoch: 1 [39680/60000 (66%)]\tLoss: 0.025793\n",
            "Train Epoch: 1 [40320/60000 (67%)]\tLoss: 0.017899\n",
            "Train Epoch: 1 [40960/60000 (68%)]\tLoss: 0.099491\n",
            "Train Epoch: 1 [41600/60000 (69%)]\tLoss: 0.089467\n",
            "Train Epoch: 1 [42240/60000 (70%)]\tLoss: 0.045416\n",
            "Train Epoch: 1 [42880/60000 (71%)]\tLoss: 0.197250\n",
            "Train Epoch: 1 [43520/60000 (72%)]\tLoss: 0.045269\n",
            "Train Epoch: 1 [44160/60000 (74%)]\tLoss: 0.037729\n",
            "Train Epoch: 1 [44800/60000 (75%)]\tLoss: 0.022063\n",
            "Train Epoch: 1 [45440/60000 (76%)]\tLoss: 0.021686\n",
            "Train Epoch: 1 [46080/60000 (77%)]\tLoss: 0.116474\n",
            "Train Epoch: 1 [46720/60000 (78%)]\tLoss: 0.036948\n",
            "Train Epoch: 1 [47360/60000 (79%)]\tLoss: 0.166499\n",
            "Train Epoch: 1 [48000/60000 (80%)]\tLoss: 0.050251\n",
            "Train Epoch: 1 [48640/60000 (81%)]\tLoss: 0.090073\n",
            "Train Epoch: 1 [49280/60000 (82%)]\tLoss: 0.251925\n",
            "Train Epoch: 1 [49920/60000 (83%)]\tLoss: 0.039439\n",
            "Train Epoch: 1 [50560/60000 (84%)]\tLoss: 0.283297\n",
            "Train Epoch: 1 [51200/60000 (85%)]\tLoss: 0.062958\n",
            "Train Epoch: 1 [51840/60000 (86%)]\tLoss: 0.055455\n",
            "Train Epoch: 1 [52480/60000 (87%)]\tLoss: 0.017813\n",
            "Train Epoch: 1 [53120/60000 (88%)]\tLoss: 0.089642\n",
            "Train Epoch: 1 [53760/60000 (90%)]\tLoss: 0.114887\n",
            "Train Epoch: 1 [54400/60000 (91%)]\tLoss: 0.066548\n",
            "Train Epoch: 1 [55040/60000 (92%)]\tLoss: 0.045365\n",
            "Train Epoch: 1 [55680/60000 (93%)]\tLoss: 0.034682\n",
            "Train Epoch: 1 [56320/60000 (94%)]\tLoss: 0.170118\n",
            "Train Epoch: 1 [56960/60000 (95%)]\tLoss: 0.022057\n",
            "Train Epoch: 1 [57600/60000 (96%)]\tLoss: 0.024328\n",
            "Train Epoch: 1 [58240/60000 (97%)]\tLoss: 0.028354\n",
            "Train Epoch: 1 [58880/60000 (98%)]\tLoss: 0.584557\n",
            "Train Epoch: 1 [59520/60000 (99%)]\tLoss: 0.060604\n",
            "Train Epoch: 2 [0/60000 (0%)]\tLoss: 0.016735\n",
            "Train Epoch: 2 [640/60000 (1%)]\tLoss: 0.103992\n",
            "Train Epoch: 2 [1280/60000 (2%)]\tLoss: 0.034995\n",
            "Train Epoch: 2 [1920/60000 (3%)]\tLoss: 0.091034\n",
            "Train Epoch: 2 [2560/60000 (4%)]\tLoss: 0.017346\n",
            "Train Epoch: 2 [3200/60000 (5%)]\tLoss: 0.334792\n",
            "Train Epoch: 2 [3840/60000 (6%)]\tLoss: 0.116374\n",
            "Train Epoch: 2 [4480/60000 (7%)]\tLoss: 0.013931\n",
            "Train Epoch: 2 [5120/60000 (9%)]\tLoss: 0.073438\n",
            "Train Epoch: 2 [5760/60000 (10%)]\tLoss: 0.077877\n",
            "Train Epoch: 2 [6400/60000 (11%)]\tLoss: 0.057195\n",
            "Train Epoch: 2 [7040/60000 (12%)]\tLoss: 0.048114\n",
            "Train Epoch: 2 [7680/60000 (13%)]\tLoss: 0.037450\n",
            "Train Epoch: 2 [8320/60000 (14%)]\tLoss: 0.076443\n",
            "Train Epoch: 2 [8960/60000 (15%)]\tLoss: 0.086026\n",
            "Train Epoch: 2 [9600/60000 (16%)]\tLoss: 0.005370\n",
            "Train Epoch: 2 [10240/60000 (17%)]\tLoss: 0.195743\n",
            "Train Epoch: 2 [10880/60000 (18%)]\tLoss: 0.072769\n",
            "Train Epoch: 2 [11520/60000 (19%)]\tLoss: 0.070350\n",
            "Train Epoch: 2 [12160/60000 (20%)]\tLoss: 0.261961\n",
            "Train Epoch: 2 [12800/60000 (21%)]\tLoss: 0.079485\n",
            "Train Epoch: 2 [13440/60000 (22%)]\tLoss: 0.019537\n",
            "Train Epoch: 2 [14080/60000 (23%)]\tLoss: 0.095147\n",
            "Train Epoch: 2 [14720/60000 (25%)]\tLoss: 0.021546\n",
            "Train Epoch: 2 [15360/60000 (26%)]\tLoss: 0.356821\n",
            "Train Epoch: 2 [16000/60000 (27%)]\tLoss: 0.114024\n",
            "Train Epoch: 2 [16640/60000 (28%)]\tLoss: 0.155451\n",
            "Train Epoch: 2 [17280/60000 (29%)]\tLoss: 0.071307\n",
            "Train Epoch: 2 [17920/60000 (30%)]\tLoss: 0.033057\n",
            "Train Epoch: 2 [18560/60000 (31%)]\tLoss: 0.052439\n",
            "Train Epoch: 2 [19200/60000 (32%)]\tLoss: 0.070058\n",
            "Train Epoch: 2 [19840/60000 (33%)]\tLoss: 0.027848\n",
            "Train Epoch: 2 [20480/60000 (34%)]\tLoss: 0.124946\n",
            "Train Epoch: 2 [21120/60000 (35%)]\tLoss: 0.051408\n",
            "Train Epoch: 2 [21760/60000 (36%)]\tLoss: 0.015713\n",
            "Train Epoch: 2 [22400/60000 (37%)]\tLoss: 0.037450\n",
            "Train Epoch: 2 [23040/60000 (38%)]\tLoss: 0.209754\n",
            "Train Epoch: 2 [23680/60000 (39%)]\tLoss: 0.076366\n",
            "Train Epoch: 2 [24320/60000 (41%)]\tLoss: 0.091551\n",
            "Train Epoch: 2 [24960/60000 (42%)]\tLoss: 0.059403\n",
            "Train Epoch: 2 [25600/60000 (43%)]\tLoss: 0.011847\n",
            "Train Epoch: 2 [26240/60000 (44%)]\tLoss: 0.187628\n",
            "Train Epoch: 2 [26880/60000 (45%)]\tLoss: 0.031712\n",
            "Train Epoch: 2 [27520/60000 (46%)]\tLoss: 0.046643\n",
            "Train Epoch: 2 [28160/60000 (47%)]\tLoss: 0.003445\n",
            "Train Epoch: 2 [28800/60000 (48%)]\tLoss: 0.009098\n",
            "Train Epoch: 2 [29440/60000 (49%)]\tLoss: 0.048248\n",
            "Train Epoch: 2 [30080/60000 (50%)]\tLoss: 0.017745\n",
            "Train Epoch: 2 [30720/60000 (51%)]\tLoss: 0.009959\n",
            "Train Epoch: 2 [31360/60000 (52%)]\tLoss: 0.102488\n",
            "Train Epoch: 2 [32000/60000 (53%)]\tLoss: 0.050717\n",
            "Train Epoch: 2 [32640/60000 (54%)]\tLoss: 0.086533\n",
            "Train Epoch: 2 [33280/60000 (55%)]\tLoss: 0.061719\n",
            "Train Epoch: 2 [33920/60000 (57%)]\tLoss: 0.083211\n",
            "Train Epoch: 2 [34560/60000 (58%)]\tLoss: 0.017879\n",
            "Train Epoch: 2 [35200/60000 (59%)]\tLoss: 0.048665\n",
            "Train Epoch: 2 [35840/60000 (60%)]\tLoss: 0.143330\n",
            "Train Epoch: 2 [36480/60000 (61%)]\tLoss: 0.052851\n",
            "Train Epoch: 2 [37120/60000 (62%)]\tLoss: 0.012947\n",
            "Train Epoch: 2 [37760/60000 (63%)]\tLoss: 0.005751\n",
            "Train Epoch: 2 [38400/60000 (64%)]\tLoss: 0.031943\n",
            "Train Epoch: 2 [39040/60000 (65%)]\tLoss: 0.304056\n",
            "Train Epoch: 2 [39680/60000 (66%)]\tLoss: 0.131392\n",
            "Train Epoch: 2 [40320/60000 (67%)]\tLoss: 0.305918\n",
            "Train Epoch: 2 [40960/60000 (68%)]\tLoss: 0.098165\n",
            "Train Epoch: 2 [41600/60000 (69%)]\tLoss: 0.024751\n",
            "Train Epoch: 2 [42240/60000 (70%)]\tLoss: 0.053936\n",
            "Train Epoch: 2 [42880/60000 (71%)]\tLoss: 0.244966\n",
            "Train Epoch: 2 [43520/60000 (72%)]\tLoss: 0.091832\n",
            "Train Epoch: 2 [44160/60000 (74%)]\tLoss: 0.064381\n",
            "Train Epoch: 2 [44800/60000 (75%)]\tLoss: 0.039566\n",
            "Train Epoch: 2 [45440/60000 (76%)]\tLoss: 0.015604\n",
            "Train Epoch: 2 [46080/60000 (77%)]\tLoss: 0.030811\n",
            "Train Epoch: 2 [46720/60000 (78%)]\tLoss: 0.021924\n",
            "Train Epoch: 2 [47360/60000 (79%)]\tLoss: 0.012743\n",
            "Train Epoch: 2 [48000/60000 (80%)]\tLoss: 0.027980\n",
            "Train Epoch: 2 [48640/60000 (81%)]\tLoss: 0.067852\n",
            "Train Epoch: 2 [49280/60000 (82%)]\tLoss: 0.071968\n",
            "Train Epoch: 2 [49920/60000 (83%)]\tLoss: 0.011348\n",
            "Train Epoch: 2 [50560/60000 (84%)]\tLoss: 0.127061\n",
            "Train Epoch: 2 [51200/60000 (85%)]\tLoss: 0.269066\n",
            "Train Epoch: 2 [51840/60000 (86%)]\tLoss: 0.155353\n",
            "Train Epoch: 2 [52480/60000 (87%)]\tLoss: 0.033384\n",
            "Train Epoch: 2 [53120/60000 (88%)]\tLoss: 0.021910\n",
            "Train Epoch: 2 [53760/60000 (90%)]\tLoss: 0.140766\n",
            "Train Epoch: 2 [54400/60000 (91%)]\tLoss: 0.041065\n",
            "Train Epoch: 2 [55040/60000 (92%)]\tLoss: 0.226238\n",
            "Train Epoch: 2 [55680/60000 (93%)]\tLoss: 0.252172\n",
            "Train Epoch: 2 [56320/60000 (94%)]\tLoss: 0.030706\n",
            "Train Epoch: 2 [56960/60000 (95%)]\tLoss: 0.019004\n",
            "Train Epoch: 2 [57600/60000 (96%)]\tLoss: 0.164233\n",
            "Train Epoch: 2 [58240/60000 (97%)]\tLoss: 0.059478\n",
            "Train Epoch: 2 [58880/60000 (98%)]\tLoss: 0.003410\n",
            "Train Epoch: 2 [59520/60000 (99%)]\tLoss: 0.184569\n",
            "Train Epoch: 3 [0/60000 (0%)]\tLoss: 0.090073\n",
            "Train Epoch: 3 [640/60000 (1%)]\tLoss: 0.004849\n",
            "Train Epoch: 3 [1280/60000 (2%)]\tLoss: 0.015774\n",
            "Train Epoch: 3 [1920/60000 (3%)]\tLoss: 0.291762\n",
            "Train Epoch: 3 [2560/60000 (4%)]\tLoss: 0.004900\n",
            "Train Epoch: 3 [3200/60000 (5%)]\tLoss: 0.074484\n",
            "Train Epoch: 3 [3840/60000 (6%)]\tLoss: 0.212787\n",
            "Train Epoch: 3 [4480/60000 (7%)]\tLoss: 0.075093\n",
            "Train Epoch: 3 [5120/60000 (9%)]\tLoss: 0.053210\n",
            "Train Epoch: 3 [5760/60000 (10%)]\tLoss: 0.063709\n",
            "Train Epoch: 3 [6400/60000 (11%)]\tLoss: 0.092086\n",
            "Train Epoch: 3 [7040/60000 (12%)]\tLoss: 0.027576\n",
            "Train Epoch: 3 [7680/60000 (13%)]\tLoss: 0.014409\n",
            "Train Epoch: 3 [8320/60000 (14%)]\tLoss: 0.129626\n",
            "Train Epoch: 3 [8960/60000 (15%)]\tLoss: 0.074655\n",
            "Train Epoch: 3 [9600/60000 (16%)]\tLoss: 0.178915\n",
            "Train Epoch: 3 [10240/60000 (17%)]\tLoss: 0.159307\n",
            "Train Epoch: 3 [10880/60000 (18%)]\tLoss: 0.120487\n",
            "Train Epoch: 3 [11520/60000 (19%)]\tLoss: 0.181163\n",
            "Train Epoch: 3 [12160/60000 (20%)]\tLoss: 0.050959\n",
            "Train Epoch: 3 [12800/60000 (21%)]\tLoss: 0.049974\n",
            "Train Epoch: 3 [13440/60000 (22%)]\tLoss: 0.082320\n",
            "Train Epoch: 3 [14080/60000 (23%)]\tLoss: 0.007287\n",
            "Train Epoch: 3 [14720/60000 (25%)]\tLoss: 0.028588\n",
            "Train Epoch: 3 [15360/60000 (26%)]\tLoss: 0.002010\n",
            "Train Epoch: 3 [16000/60000 (27%)]\tLoss: 0.209639\n",
            "Train Epoch: 3 [16640/60000 (28%)]\tLoss: 0.049105\n",
            "Train Epoch: 3 [17280/60000 (29%)]\tLoss: 0.071786\n",
            "Train Epoch: 3 [17920/60000 (30%)]\tLoss: 0.009301\n",
            "Train Epoch: 3 [18560/60000 (31%)]\tLoss: 0.018394\n",
            "Train Epoch: 3 [19200/60000 (32%)]\tLoss: 0.147713\n",
            "Train Epoch: 3 [19840/60000 (33%)]\tLoss: 0.072203\n",
            "Train Epoch: 3 [20480/60000 (34%)]\tLoss: 0.108201\n",
            "Train Epoch: 3 [21120/60000 (35%)]\tLoss: 0.052871\n",
            "Train Epoch: 3 [21760/60000 (36%)]\tLoss: 0.076200\n",
            "Train Epoch: 3 [22400/60000 (37%)]\tLoss: 0.085664\n",
            "Train Epoch: 3 [23040/60000 (38%)]\tLoss: 0.006669\n",
            "Train Epoch: 3 [23680/60000 (39%)]\tLoss: 0.021720\n",
            "Train Epoch: 3 [24320/60000 (41%)]\tLoss: 0.049129\n",
            "Train Epoch: 3 [24960/60000 (42%)]\tLoss: 0.152921\n",
            "Train Epoch: 3 [25600/60000 (43%)]\tLoss: 0.167245\n",
            "Train Epoch: 3 [26240/60000 (44%)]\tLoss: 0.163657\n",
            "Train Epoch: 3 [26880/60000 (45%)]\tLoss: 0.126401\n",
            "Train Epoch: 3 [27520/60000 (46%)]\tLoss: 0.071477\n",
            "Train Epoch: 3 [28160/60000 (47%)]\tLoss: 0.033182\n",
            "Train Epoch: 3 [28800/60000 (48%)]\tLoss: 0.005711\n",
            "Train Epoch: 3 [29440/60000 (49%)]\tLoss: 0.055632\n",
            "Train Epoch: 3 [30080/60000 (50%)]\tLoss: 0.022678\n",
            "Train Epoch: 3 [30720/60000 (51%)]\tLoss: 0.113609\n",
            "Train Epoch: 3 [31360/60000 (52%)]\tLoss: 0.016719\n",
            "Train Epoch: 3 [32000/60000 (53%)]\tLoss: 0.011053\n",
            "Train Epoch: 3 [32640/60000 (54%)]\tLoss: 0.061375\n",
            "Train Epoch: 3 [33280/60000 (55%)]\tLoss: 0.006244\n",
            "Train Epoch: 3 [33920/60000 (57%)]\tLoss: 0.005107\n",
            "Train Epoch: 3 [34560/60000 (58%)]\tLoss: 0.034243\n",
            "Train Epoch: 3 [35200/60000 (59%)]\tLoss: 0.106127\n",
            "Train Epoch: 3 [35840/60000 (60%)]\tLoss: 0.151459\n",
            "Train Epoch: 3 [36480/60000 (61%)]\tLoss: 0.028046\n",
            "Train Epoch: 3 [37120/60000 (62%)]\tLoss: 0.051925\n",
            "Train Epoch: 3 [37760/60000 (63%)]\tLoss: 0.001630\n",
            "Train Epoch: 3 [38400/60000 (64%)]\tLoss: 0.012002\n",
            "Train Epoch: 3 [39040/60000 (65%)]\tLoss: 0.036253\n",
            "Train Epoch: 3 [39680/60000 (66%)]\tLoss: 0.164003\n",
            "Train Epoch: 3 [40320/60000 (67%)]\tLoss: 0.019929\n",
            "Train Epoch: 3 [40960/60000 (68%)]\tLoss: 0.069638\n",
            "Train Epoch: 3 [41600/60000 (69%)]\tLoss: 0.017251\n",
            "Train Epoch: 3 [42240/60000 (70%)]\tLoss: 0.016824\n",
            "Train Epoch: 3 [42880/60000 (71%)]\tLoss: 0.174629\n",
            "Train Epoch: 3 [43520/60000 (72%)]\tLoss: 0.064468\n",
            "Train Epoch: 3 [44160/60000 (74%)]\tLoss: 0.018043\n",
            "Train Epoch: 3 [44800/60000 (75%)]\tLoss: 0.036105\n",
            "Train Epoch: 3 [45440/60000 (76%)]\tLoss: 0.080716\n",
            "Train Epoch: 3 [46080/60000 (77%)]\tLoss: 0.151205\n",
            "Train Epoch: 3 [46720/60000 (78%)]\tLoss: 0.075290\n",
            "Train Epoch: 3 [47360/60000 (79%)]\tLoss: 0.114857\n",
            "Train Epoch: 3 [48000/60000 (80%)]\tLoss: 0.015925\n",
            "Train Epoch: 3 [48640/60000 (81%)]\tLoss: 0.078387\n",
            "Train Epoch: 3 [49280/60000 (82%)]\tLoss: 0.164363\n",
            "Train Epoch: 3 [49920/60000 (83%)]\tLoss: 0.324779\n",
            "Train Epoch: 3 [50560/60000 (84%)]\tLoss: 0.105969\n",
            "Train Epoch: 3 [51200/60000 (85%)]\tLoss: 0.023441\n",
            "Train Epoch: 3 [51840/60000 (86%)]\tLoss: 0.086316\n",
            "Train Epoch: 3 [52480/60000 (87%)]\tLoss: 0.107611\n",
            "Train Epoch: 3 [53120/60000 (88%)]\tLoss: 0.114650\n",
            "Train Epoch: 3 [53760/60000 (90%)]\tLoss: 0.043482\n",
            "Train Epoch: 3 [54400/60000 (91%)]\tLoss: 0.034039\n",
            "Train Epoch: 3 [55040/60000 (92%)]\tLoss: 0.022878\n",
            "Train Epoch: 3 [55680/60000 (93%)]\tLoss: 0.028242\n",
            "Train Epoch: 3 [56320/60000 (94%)]\tLoss: 0.196913\n",
            "Train Epoch: 3 [56960/60000 (95%)]\tLoss: 0.001251\n",
            "Train Epoch: 3 [57600/60000 (96%)]\tLoss: 0.010775\n",
            "Train Epoch: 3 [58240/60000 (97%)]\tLoss: 0.015852\n",
            "Train Epoch: 3 [58880/60000 (98%)]\tLoss: 0.020157\n",
            "Train Epoch: 3 [59520/60000 (99%)]\tLoss: 0.154325\n"
          ],
          "name": "stdout"
        }
      ]
    },
    {
      "cell_type": "code",
      "metadata": {
        "id": "-6sy0hFQpNqy",
        "colab_type": "code",
        "outputId": "3aa9b7cd-0239-4210-a7df-bc9237681af4",
        "colab": {
          "base_uri": "https://localhost:8080/",
          "height": 541
        }
      },
      "source": [
        "#Visualize the training loss\n",
        "fig = plt.figure()\n",
        "plt.plot(train_counter, train_losses, color='blue')\n",
        "plt.xlabel('number of training examples seen')\n",
        "plt.ylabel('negative log likelihood loss')\n",
        "fig"
      ],
      "execution_count": 0,
      "outputs": [
        {
          "output_type": "execute_result",
          "data": {
            "image/png": "[encoded data removed]",
            "text/plain": [
              "<Figure size 432x288 with 1 Axes>"
            ]
          },
          "metadata": {
            "tags": []
          },
          "execution_count": 87
        },
        {
          "output_type": "display_data",
          "data": {
            "image/png": "[encoded data removed]",
            "text/plain": [
              "<Figure size 432x288 with 1 Axes>"
            ]
          },
          "metadata": {
            "tags": []
          }
        }
      ]
    },
    {
      "cell_type": "markdown",
      "metadata": {
        "id": "HfW-vGUOb0cj",
        "colab_type": "text"
      },
      "source": [
        "# Implementation of AlexNet\n"
      ]
    },
    {
      "cell_type": "code",
      "metadata": {
        "id": "zM-ucyhQnFY1",
        "colab_type": "code",
        "colab": {}
      },
      "source": [
        "class AlexNet(nn.Module):\n",
        "\n",
        "    def __init__(self, num_classes=1000):\n",
        "        super(AlexNet, self).__init__()\n",
        "        self.features = nn.Sequential(\n",
        "            nn.Conv2d(3, 64, kernel_size=11, stride=4, padding=2),\n",
        "            nn.ReLU(inplace=True),\n",
        "            nn.MaxPool2d(kernel_size=3, stride=2),\n",
        "            nn.Conv2d(64, 192, kernel_size=5, padding=2),\n",
        "            nn.ReLU(inplace=True),\n",
        "            nn.MaxPool2d(kernel_size=3, stride=2),\n",
        "            nn.Conv2d(192, 384, kernel_size=3, padding=1),\n",
        "            nn.ReLU(inplace=True),\n",
        "            nn.Conv2d(384, 256, kernel_size=3, padding=1),\n",
        "            nn.ReLU(inplace=True),\n",
        "            nn.Conv2d(256, 256, kernel_size=3, padding=1),\n",
        "            nn.ReLU(inplace=True),\n",
        "            nn.MaxPool2d(kernel_size=3, stride=2),\n",
        "        )\n",
        "        self.avgpool = nn.AdaptiveAvgPool2d((6, 6))\n",
        "        self.classifier = nn.Sequential(\n",
        "            nn.Dropout(),\n",
        "            nn.Linear(256 * 6 * 6, 4096),\n",
        "            nn.ReLU(inplace=True),\n",
        "            nn.Dropout(),\n",
        "            nn.Linear(4096, 4096),\n",
        "            nn.ReLU(inplace=True),\n",
        "            nn.Linear(4096, num_classes),\n",
        "        )\n",
        "\n",
        "    def forward(self, x):\n",
        "        x = self.features(x)\n",
        "        x = self.avgpool(x)\n",
        "        x = torch.flatten(x, 1)\n",
        "        x = self.classifier(x)\n",
        "        return x"
      ],
      "execution_count": 0,
      "outputs": []
    },
    {
      "cell_type": "markdown",
      "metadata": {
        "id": "Mp7IZuSynD9W",
        "colab_type": "text"
      },
      "source": [
        "# HOMEWORK\n",
        "\n",
        "1. Evaluate the model on test data\n",
        "  + Run the model\n",
        "  + Calculate precision, accuracy, F1 score\n",
        "2. Save the model and call the model from saved file\n",
        "3. Create checkpoint during training and Implement training resume from checkpoint\n",
        "  + Hint: During training, save both network state and optimizer state\n",
        "\n",
        "  ```\n",
        "  # torch.save(network.state_dict(), '/results/model.pth')\n",
        "  # torch.save(optimizer.state_dict(), '/results/optimizer.pth')\n",
        "  ```"
      ]
    },
    {
      "cell_type": "code",
      "metadata": {
        "id": "HOsoI00KnElf",
        "colab_type": "code",
        "colab": {}
      },
      "source": [
        ""
      ],
      "execution_count": 0,
      "outputs": []
    },
    {
      "cell_type": "code",
      "metadata": {
        "id": "tNxxO3HinEuG",
        "colab_type": "code",
        "colab": {}
      },
      "source": [
        ""
      ],
      "execution_count": 0,
      "outputs": []
    },
    {
      "cell_type": "markdown",
      "metadata": {
        "id": "9Zc-wewBpPUd",
        "colab_type": "text"
      },
      "source": [
        "# References\n",
        "\n",
        "* https://pytorch.org/tutorials/beginner/pytorch_with_examples.html\n",
        "* https://www.datahubbs.com/deep-learning-101-first-neural-network-with-pytorch/\n",
        "* https://nextjournal.com/gkoehler/pytorch-mnist\n",
        "* https://github.com/pytorch/vision/blob/master/torchvision/models/alexnet.py"
      ]
    },
    {
      "cell_type": "markdown",
      "metadata": {
        "id": "-Gw1k0FSbs4H",
        "colab_type": "text"
      },
      "source": [
        ""
      ]
    },
    {
      "cell_type": "markdown",
      "metadata": {
        "id": "JECOCEYebtNg",
        "colab_type": "text"
      },
      "source": [
        ""
      ]
    },
    {
      "cell_type": "markdown",
      "metadata": {
        "id": "Rx-sL3sWdw5j",
        "colab_type": "text"
      },
      "source": [
        "\n",
        "*** Unrelated Places for math --> unused\n",
        "\n",
        "$X \\in \\mathbb{R}^{4\\times m}$\n",
        "\n",
        "$H^{(1)} \\in \\mathbb{R}^{4\\times m}$\n",
        "\n",
        "$W^{(1)} \\in \\mathbb{R}^{4\\times 4}$\n",
        "\n",
        "\n",
        "$H^{(2)} \\in \\mathbb{R}^{3\\times m}$\n",
        "\n",
        "$W^{(2)} \\in \\mathbb{R}^{3\\times 4}$\n",
        "\n",
        "$y \\in \\mathbb{R}^{1\\times m}$\n",
        "\n",
        "$W^{(3)} \\in \\mathbb{R}^{1\\times 3}$\n",
        "\n",
        "\n",
        "$W^{(1)}X + B^{(1)} = H^{(1)}$\n",
        "\n",
        "$W^{(2)}H^{(1)} + B^{(2)} = H^{(2)}$\n",
        "\n",
        "$W^{(3)}H^{(2)} + B^{(3)} = y $\n",
        "\n",
        "$X \\in \\mathbb{R}^{1024\\times m}$\n",
        "\n",
        "\n",
        "$W^{(1)} \\in \\mathbb{R}^{1024\\times 4}$\n",
        "\n",
        "$X \\in \\mathbb{R}^{1024\\times m}$\n",
        "\n",
        "\n",
        "$W^{(1)} \\in \\mathbb{R}^{1024\\times 4}$\n",
        "\n",
        "$X \\in \\mathbb{R}^{1048576\\times m}$\n",
        "\n",
        "\n",
        "$W^{(1)} \\in \\mathbb{R}^{1048576\\times 4}$\n",
        "\n"
      ]
    }
  ]
}